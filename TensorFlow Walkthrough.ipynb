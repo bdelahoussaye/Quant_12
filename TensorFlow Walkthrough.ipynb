{
 "cells": [
  {
   "cell_type": "code",
   "execution_count": 1,
   "metadata": {},
   "outputs": [
    {
     "name": "stdout",
     "output_type": "stream",
     "text": [
      "2.0.0\n",
      "Num GPUs Available:  2\n"
     ]
    }
   ],
   "source": [
    "from __future__ import absolute_import, division, print_function, unicode_literals\n",
    "\n",
    "import tensorflow as tf\n",
    "\n",
    "from tensorflow.keras import layers\n",
    "from sklearn import datasets\n",
    "import pandas as pd\n",
    "import numpy as np\n",
    "print(tf.__version__)\n",
    "\n",
    "import warnings\n",
    "warnings.simplefilter(action='ignore', category=FutureWarning)\n",
    "\n",
    "\n",
    "print(\"Num GPUs Available: \", len(tf.config.experimental.list_physical_devices('GPU')))\n",
    "\n"
   ]
  },
  {
   "cell_type": "code",
   "execution_count": 2,
   "metadata": {},
   "outputs": [
    {
     "name": "stderr",
     "output_type": "stream",
     "text": [
      "Using TensorFlow backend.\n"
     ]
    }
   ],
   "source": [
    "\n",
    "import matplotlib.pyplot as plt # For making plots\n",
    "\n",
    "import seaborn as sns # Makes beautiful plots\n",
    "from sklearn.preprocessing import StandardScaler # Testing sklearn\n",
    "import tensorflow # Imports tensorflow\n",
    "import keras # Imports keras"
   ]
  },
  {
   "cell_type": "code",
   "execution_count": 3,
   "metadata": {},
   "outputs": [
    {
     "name": "stdout",
     "output_type": "stream",
     "text": [
      "10.0\n",
      "7.6\n"
     ]
    }
   ],
   "source": [
    "from tensorflow.python.platform import build_info as tf_build_info\n",
    "print(tf_build_info.cuda_version_number)\n",
    "# 9.0 in v1.10.0\n",
    "print(tf_build_info.cudnn_version_number)\n",
    "# 7 in v1.10.0"
   ]
  },
  {
   "cell_type": "code",
   "execution_count": 4,
   "metadata": {},
   "outputs": [
    {
     "data": {
      "text/plain": [
       "[name: \"/device:CPU:0\"\n",
       " device_type: \"CPU\"\n",
       " memory_limit: 268435456\n",
       " locality {\n",
       " }\n",
       " incarnation: 18146483014276725311, name: \"/device:GPU:0\"\n",
       " device_type: \"GPU\"\n",
       " memory_limit: 6614766059\n",
       " locality {\n",
       "   bus_id: 1\n",
       "   links {\n",
       "   }\n",
       " }\n",
       " incarnation: 5894133381781526319\n",
       " physical_device_desc: \"device: 0, name: GeForce RTX 2070, pci bus id: 0000:17:00.0, compute capability: 7.5\", name: \"/device:GPU:1\"\n",
       " device_type: \"GPU\"\n",
       " memory_limit: 6614766059\n",
       " locality {\n",
       "   bus_id: 1\n",
       "   links {\n",
       "   }\n",
       " }\n",
       " incarnation: 7851335780360475354\n",
       " physical_device_desc: \"device: 1, name: GeForce RTX 2070, pci bus id: 0000:65:00.0, compute capability: 7.5\"]"
      ]
     },
     "execution_count": 4,
     "metadata": {},
     "output_type": "execute_result"
    }
   ],
   "source": [
    "from tensorflow.python.client import device_lib\n",
    "\n",
    "device_lib.list_local_devices()"
   ]
  },
  {
   "cell_type": "code",
   "execution_count": null,
   "metadata": {},
   "outputs": [],
   "source": [
    "#kept code to use multiple GPUs\n",
    "\n",
    "c = []\n",
    "for d in ['/device:GPU:0', '/device:GPU:1']:\n",
    "    with tf.device(d):\n",
    "        a = tf.constant([1.0, 2.0, 3.0, 4.0, 5.0, 6.0], shape=[2, 3])\n",
    "        b = tf.constant([1.0, 2.0, 3.0, 4.0, 5.0, 6.0], shape=[3, 2])\n",
    "        c.append(tf.matmul(a, b))\n",
    "    with tf.device('/cpu:0'):\n",
    "        sum = tf.add_n(c)\n",
    "\n",
    "sess = tf.compat.v1.Session(config=tf.compat.v1.ConfigProto(log_device_placement=True))\n",
    "\n",
    "init = tf.compat.v1.global_variables_initializer()\n",
    "sess.run(init)\n",
    "\n",
    "# Running the operations.\n",
    "print(sess.run(sum))"
   ]
  },
  {
   "cell_type": "markdown",
   "metadata": {},
   "source": [
    "## Load Data\n",
    "First get the data.  Sklearn presents the data in a dictionary.  \n",
    "\n",
    "The target is the price is thousands\n",
    "\n",
    "Note that X is a dataframe while y is an array!!"
   ]
  },
  {
   "cell_type": "code",
   "execution_count": 5,
   "metadata": {},
   "outputs": [],
   "source": [
    "bos = datasets.load_boston()"
   ]
  },
  {
   "cell_type": "code",
   "execution_count": 6,
   "metadata": {},
   "outputs": [
    {
     "data": {
      "text/plain": [
       "{'DESCR': \".. _boston_dataset:\\n\\nBoston house prices dataset\\n---------------------------\\n\\n**Data Set Characteristics:**  \\n\\n    :Number of Instances: 506 \\n\\n    :Number of Attributes: 13 numeric/categorical predictive. Median Value (attribute 14) is usually the target.\\n\\n    :Attribute Information (in order):\\n        - CRIM     per capita crime rate by town\\n        - ZN       proportion of residential land zoned for lots over 25,000 sq.ft.\\n        - INDUS    proportion of non-retail business acres per town\\n        - CHAS     Charles River dummy variable (= 1 if tract bounds river; 0 otherwise)\\n        - NOX      nitric oxides concentration (parts per 10 million)\\n        - RM       average number of rooms per dwelling\\n        - AGE      proportion of owner-occupied units built prior to 1940\\n        - DIS      weighted distances to five Boston employment centres\\n        - RAD      index of accessibility to radial highways\\n        - TAX      full-value property-tax rate per $10,000\\n        - PTRATIO  pupil-teacher ratio by town\\n        - B        1000(Bk - 0.63)^2 where Bk is the proportion of blacks by town\\n        - LSTAT    % lower status of the population\\n        - MEDV     Median value of owner-occupied homes in $1000's\\n\\n    :Missing Attribute Values: None\\n\\n    :Creator: Harrison, D. and Rubinfeld, D.L.\\n\\nThis is a copy of UCI ML housing dataset.\\nhttps://archive.ics.uci.edu/ml/machine-learning-databases/housing/\\n\\n\\nThis dataset was taken from the StatLib library which is maintained at Carnegie Mellon University.\\n\\nThe Boston house-price data of Harrison, D. and Rubinfeld, D.L. 'Hedonic\\nprices and the demand for clean air', J. Environ. Economics & Management,\\nvol.5, 81-102, 1978.   Used in Belsley, Kuh & Welsch, 'Regression diagnostics\\n...', Wiley, 1980.   N.B. Various transformations are used in the table on\\npages 244-261 of the latter.\\n\\nThe Boston house-price data has been used in many machine learning papers that address regression\\nproblems.   \\n     \\n.. topic:: References\\n\\n   - Belsley, Kuh & Welsch, 'Regression diagnostics: Identifying Influential Data and Sources of Collinearity', Wiley, 1980. 244-261.\\n   - Quinlan,R. (1993). Combining Instance-Based and Model-Based Learning. In Proceedings on the Tenth International Conference of Machine Learning, 236-243, University of Massachusetts, Amherst. Morgan Kaufmann.\\n\",\n",
       " 'data': array([[6.3200e-03, 1.8000e+01, 2.3100e+00, ..., 1.5300e+01, 3.9690e+02,\n",
       "         4.9800e+00],\n",
       "        [2.7310e-02, 0.0000e+00, 7.0700e+00, ..., 1.7800e+01, 3.9690e+02,\n",
       "         9.1400e+00],\n",
       "        [2.7290e-02, 0.0000e+00, 7.0700e+00, ..., 1.7800e+01, 3.9283e+02,\n",
       "         4.0300e+00],\n",
       "        ...,\n",
       "        [6.0760e-02, 0.0000e+00, 1.1930e+01, ..., 2.1000e+01, 3.9690e+02,\n",
       "         5.6400e+00],\n",
       "        [1.0959e-01, 0.0000e+00, 1.1930e+01, ..., 2.1000e+01, 3.9345e+02,\n",
       "         6.4800e+00],\n",
       "        [4.7410e-02, 0.0000e+00, 1.1930e+01, ..., 2.1000e+01, 3.9690e+02,\n",
       "         7.8800e+00]]),\n",
       " 'feature_names': array(['CRIM', 'ZN', 'INDUS', 'CHAS', 'NOX', 'RM', 'AGE', 'DIS', 'RAD',\n",
       "        'TAX', 'PTRATIO', 'B', 'LSTAT'], dtype='<U7'),\n",
       " 'filename': 'C:\\\\Users\\\\Brandon\\\\AppData\\\\Local\\\\Continuum\\\\anaconda3\\\\lib\\\\site-packages\\\\sklearn\\\\datasets\\\\data\\\\boston_house_prices.csv',\n",
       " 'target': array([24. , 21.6, 34.7, 33.4, 36.2, 28.7, 22.9, 27.1, 16.5, 18.9, 15. ,\n",
       "        18.9, 21.7, 20.4, 18.2, 19.9, 23.1, 17.5, 20.2, 18.2, 13.6, 19.6,\n",
       "        15.2, 14.5, 15.6, 13.9, 16.6, 14.8, 18.4, 21. , 12.7, 14.5, 13.2,\n",
       "        13.1, 13.5, 18.9, 20. , 21. , 24.7, 30.8, 34.9, 26.6, 25.3, 24.7,\n",
       "        21.2, 19.3, 20. , 16.6, 14.4, 19.4, 19.7, 20.5, 25. , 23.4, 18.9,\n",
       "        35.4, 24.7, 31.6, 23.3, 19.6, 18.7, 16. , 22.2, 25. , 33. , 23.5,\n",
       "        19.4, 22. , 17.4, 20.9, 24.2, 21.7, 22.8, 23.4, 24.1, 21.4, 20. ,\n",
       "        20.8, 21.2, 20.3, 28. , 23.9, 24.8, 22.9, 23.9, 26.6, 22.5, 22.2,\n",
       "        23.6, 28.7, 22.6, 22. , 22.9, 25. , 20.6, 28.4, 21.4, 38.7, 43.8,\n",
       "        33.2, 27.5, 26.5, 18.6, 19.3, 20.1, 19.5, 19.5, 20.4, 19.8, 19.4,\n",
       "        21.7, 22.8, 18.8, 18.7, 18.5, 18.3, 21.2, 19.2, 20.4, 19.3, 22. ,\n",
       "        20.3, 20.5, 17.3, 18.8, 21.4, 15.7, 16.2, 18. , 14.3, 19.2, 19.6,\n",
       "        23. , 18.4, 15.6, 18.1, 17.4, 17.1, 13.3, 17.8, 14. , 14.4, 13.4,\n",
       "        15.6, 11.8, 13.8, 15.6, 14.6, 17.8, 15.4, 21.5, 19.6, 15.3, 19.4,\n",
       "        17. , 15.6, 13.1, 41.3, 24.3, 23.3, 27. , 50. , 50. , 50. , 22.7,\n",
       "        25. , 50. , 23.8, 23.8, 22.3, 17.4, 19.1, 23.1, 23.6, 22.6, 29.4,\n",
       "        23.2, 24.6, 29.9, 37.2, 39.8, 36.2, 37.9, 32.5, 26.4, 29.6, 50. ,\n",
       "        32. , 29.8, 34.9, 37. , 30.5, 36.4, 31.1, 29.1, 50. , 33.3, 30.3,\n",
       "        34.6, 34.9, 32.9, 24.1, 42.3, 48.5, 50. , 22.6, 24.4, 22.5, 24.4,\n",
       "        20. , 21.7, 19.3, 22.4, 28.1, 23.7, 25. , 23.3, 28.7, 21.5, 23. ,\n",
       "        26.7, 21.7, 27.5, 30.1, 44.8, 50. , 37.6, 31.6, 46.7, 31.5, 24.3,\n",
       "        31.7, 41.7, 48.3, 29. , 24. , 25.1, 31.5, 23.7, 23.3, 22. , 20.1,\n",
       "        22.2, 23.7, 17.6, 18.5, 24.3, 20.5, 24.5, 26.2, 24.4, 24.8, 29.6,\n",
       "        42.8, 21.9, 20.9, 44. , 50. , 36. , 30.1, 33.8, 43.1, 48.8, 31. ,\n",
       "        36.5, 22.8, 30.7, 50. , 43.5, 20.7, 21.1, 25.2, 24.4, 35.2, 32.4,\n",
       "        32. , 33.2, 33.1, 29.1, 35.1, 45.4, 35.4, 46. , 50. , 32.2, 22. ,\n",
       "        20.1, 23.2, 22.3, 24.8, 28.5, 37.3, 27.9, 23.9, 21.7, 28.6, 27.1,\n",
       "        20.3, 22.5, 29. , 24.8, 22. , 26.4, 33.1, 36.1, 28.4, 33.4, 28.2,\n",
       "        22.8, 20.3, 16.1, 22.1, 19.4, 21.6, 23.8, 16.2, 17.8, 19.8, 23.1,\n",
       "        21. , 23.8, 23.1, 20.4, 18.5, 25. , 24.6, 23. , 22.2, 19.3, 22.6,\n",
       "        19.8, 17.1, 19.4, 22.2, 20.7, 21.1, 19.5, 18.5, 20.6, 19. , 18.7,\n",
       "        32.7, 16.5, 23.9, 31.2, 17.5, 17.2, 23.1, 24.5, 26.6, 22.9, 24.1,\n",
       "        18.6, 30.1, 18.2, 20.6, 17.8, 21.7, 22.7, 22.6, 25. , 19.9, 20.8,\n",
       "        16.8, 21.9, 27.5, 21.9, 23.1, 50. , 50. , 50. , 50. , 50. , 13.8,\n",
       "        13.8, 15. , 13.9, 13.3, 13.1, 10.2, 10.4, 10.9, 11.3, 12.3,  8.8,\n",
       "         7.2, 10.5,  7.4, 10.2, 11.5, 15.1, 23.2,  9.7, 13.8, 12.7, 13.1,\n",
       "        12.5,  8.5,  5. ,  6.3,  5.6,  7.2, 12.1,  8.3,  8.5,  5. , 11.9,\n",
       "        27.9, 17.2, 27.5, 15. , 17.2, 17.9, 16.3,  7. ,  7.2,  7.5, 10.4,\n",
       "         8.8,  8.4, 16.7, 14.2, 20.8, 13.4, 11.7,  8.3, 10.2, 10.9, 11. ,\n",
       "         9.5, 14.5, 14.1, 16.1, 14.3, 11.7, 13.4,  9.6,  8.7,  8.4, 12.8,\n",
       "        10.5, 17.1, 18.4, 15.4, 10.8, 11.8, 14.9, 12.6, 14.1, 13. , 13.4,\n",
       "        15.2, 16.1, 17.8, 14.9, 14.1, 12.7, 13.5, 14.9, 20. , 16.4, 17.7,\n",
       "        19.5, 20.2, 21.4, 19.9, 19. , 19.1, 19.1, 20.1, 19.9, 19.6, 23.2,\n",
       "        29.8, 13.8, 13.3, 16.7, 12. , 14.6, 21.4, 23. , 23.7, 25. , 21.8,\n",
       "        20.6, 21.2, 19.1, 20.6, 15.2,  7. ,  8.1, 13.6, 20.1, 21.8, 24.5,\n",
       "        23.1, 19.7, 18.3, 21.2, 17.5, 16.8, 22.4, 20.6, 23.9, 22. , 11.9])}"
      ]
     },
     "execution_count": 6,
     "metadata": {},
     "output_type": "execute_result"
    }
   ],
   "source": [
    "bos"
   ]
  },
  {
   "cell_type": "code",
   "execution_count": 7,
   "metadata": {},
   "outputs": [],
   "source": [
    "x = pd.DataFrame(bos['data'])"
   ]
  },
  {
   "cell_type": "code",
   "execution_count": 8,
   "metadata": {},
   "outputs": [],
   "source": [
    "x.columns = bos['feature_names']"
   ]
  },
  {
   "cell_type": "markdown",
   "metadata": {},
   "source": [
    "### This is a dataframe"
   ]
  },
  {
   "cell_type": "code",
   "execution_count": 9,
   "metadata": {},
   "outputs": [
    {
     "data": {
      "text/html": [
       "<div>\n",
       "<style scoped>\n",
       "    .dataframe tbody tr th:only-of-type {\n",
       "        vertical-align: middle;\n",
       "    }\n",
       "\n",
       "    .dataframe tbody tr th {\n",
       "        vertical-align: top;\n",
       "    }\n",
       "\n",
       "    .dataframe thead th {\n",
       "        text-align: right;\n",
       "    }\n",
       "</style>\n",
       "<table border=\"1\" class=\"dataframe\">\n",
       "  <thead>\n",
       "    <tr style=\"text-align: right;\">\n",
       "      <th></th>\n",
       "      <th>CRIM</th>\n",
       "      <th>ZN</th>\n",
       "      <th>INDUS</th>\n",
       "      <th>CHAS</th>\n",
       "      <th>NOX</th>\n",
       "      <th>RM</th>\n",
       "      <th>AGE</th>\n",
       "      <th>DIS</th>\n",
       "      <th>RAD</th>\n",
       "      <th>TAX</th>\n",
       "      <th>PTRATIO</th>\n",
       "      <th>B</th>\n",
       "      <th>LSTAT</th>\n",
       "    </tr>\n",
       "  </thead>\n",
       "  <tbody>\n",
       "    <tr>\n",
       "      <th>0</th>\n",
       "      <td>0.00632</td>\n",
       "      <td>18.0</td>\n",
       "      <td>2.31</td>\n",
       "      <td>0.0</td>\n",
       "      <td>0.538</td>\n",
       "      <td>6.575</td>\n",
       "      <td>65.2</td>\n",
       "      <td>4.0900</td>\n",
       "      <td>1.0</td>\n",
       "      <td>296.0</td>\n",
       "      <td>15.3</td>\n",
       "      <td>396.90</td>\n",
       "      <td>4.98</td>\n",
       "    </tr>\n",
       "    <tr>\n",
       "      <th>1</th>\n",
       "      <td>0.02731</td>\n",
       "      <td>0.0</td>\n",
       "      <td>7.07</td>\n",
       "      <td>0.0</td>\n",
       "      <td>0.469</td>\n",
       "      <td>6.421</td>\n",
       "      <td>78.9</td>\n",
       "      <td>4.9671</td>\n",
       "      <td>2.0</td>\n",
       "      <td>242.0</td>\n",
       "      <td>17.8</td>\n",
       "      <td>396.90</td>\n",
       "      <td>9.14</td>\n",
       "    </tr>\n",
       "    <tr>\n",
       "      <th>2</th>\n",
       "      <td>0.02729</td>\n",
       "      <td>0.0</td>\n",
       "      <td>7.07</td>\n",
       "      <td>0.0</td>\n",
       "      <td>0.469</td>\n",
       "      <td>7.185</td>\n",
       "      <td>61.1</td>\n",
       "      <td>4.9671</td>\n",
       "      <td>2.0</td>\n",
       "      <td>242.0</td>\n",
       "      <td>17.8</td>\n",
       "      <td>392.83</td>\n",
       "      <td>4.03</td>\n",
       "    </tr>\n",
       "    <tr>\n",
       "      <th>3</th>\n",
       "      <td>0.03237</td>\n",
       "      <td>0.0</td>\n",
       "      <td>2.18</td>\n",
       "      <td>0.0</td>\n",
       "      <td>0.458</td>\n",
       "      <td>6.998</td>\n",
       "      <td>45.8</td>\n",
       "      <td>6.0622</td>\n",
       "      <td>3.0</td>\n",
       "      <td>222.0</td>\n",
       "      <td>18.7</td>\n",
       "      <td>394.63</td>\n",
       "      <td>2.94</td>\n",
       "    </tr>\n",
       "    <tr>\n",
       "      <th>4</th>\n",
       "      <td>0.06905</td>\n",
       "      <td>0.0</td>\n",
       "      <td>2.18</td>\n",
       "      <td>0.0</td>\n",
       "      <td>0.458</td>\n",
       "      <td>7.147</td>\n",
       "      <td>54.2</td>\n",
       "      <td>6.0622</td>\n",
       "      <td>3.0</td>\n",
       "      <td>222.0</td>\n",
       "      <td>18.7</td>\n",
       "      <td>396.90</td>\n",
       "      <td>5.33</td>\n",
       "    </tr>\n",
       "  </tbody>\n",
       "</table>\n",
       "</div>"
      ],
      "text/plain": [
       "      CRIM    ZN  INDUS  CHAS    NOX     RM   AGE     DIS  RAD    TAX  \\\n",
       "0  0.00632  18.0   2.31   0.0  0.538  6.575  65.2  4.0900  1.0  296.0   \n",
       "1  0.02731   0.0   7.07   0.0  0.469  6.421  78.9  4.9671  2.0  242.0   \n",
       "2  0.02729   0.0   7.07   0.0  0.469  7.185  61.1  4.9671  2.0  242.0   \n",
       "3  0.03237   0.0   2.18   0.0  0.458  6.998  45.8  6.0622  3.0  222.0   \n",
       "4  0.06905   0.0   2.18   0.0  0.458  7.147  54.2  6.0622  3.0  222.0   \n",
       "\n",
       "   PTRATIO       B  LSTAT  \n",
       "0     15.3  396.90   4.98  \n",
       "1     17.8  396.90   9.14  \n",
       "2     17.8  392.83   4.03  \n",
       "3     18.7  394.63   2.94  \n",
       "4     18.7  396.90   5.33  "
      ]
     },
     "execution_count": 9,
     "metadata": {},
     "output_type": "execute_result"
    }
   ],
   "source": [
    "x.head()"
   ]
  },
  {
   "cell_type": "markdown",
   "metadata": {},
   "source": [
    "### This is an array"
   ]
  },
  {
   "cell_type": "code",
   "execution_count": 10,
   "metadata": {},
   "outputs": [],
   "source": [
    "y = bos['target']"
   ]
  },
  {
   "cell_type": "code",
   "execution_count": 11,
   "metadata": {},
   "outputs": [
    {
     "data": {
      "text/plain": [
       "array([24. , 21.6, 34.7, 33.4, 36.2, 28.7, 22.9, 27.1, 16.5, 18.9, 15. ,\n",
       "       18.9, 21.7, 20.4, 18.2, 19.9, 23.1, 17.5, 20.2, 18.2, 13.6, 19.6,\n",
       "       15.2, 14.5, 15.6, 13.9, 16.6, 14.8, 18.4, 21. , 12.7, 14.5, 13.2,\n",
       "       13.1, 13.5, 18.9, 20. , 21. , 24.7, 30.8, 34.9, 26.6, 25.3, 24.7,\n",
       "       21.2, 19.3, 20. , 16.6, 14.4, 19.4, 19.7, 20.5, 25. , 23.4, 18.9,\n",
       "       35.4, 24.7, 31.6, 23.3, 19.6, 18.7, 16. , 22.2, 25. , 33. , 23.5,\n",
       "       19.4, 22. , 17.4, 20.9, 24.2, 21.7, 22.8, 23.4, 24.1, 21.4, 20. ,\n",
       "       20.8, 21.2, 20.3, 28. , 23.9, 24.8, 22.9, 23.9, 26.6, 22.5, 22.2,\n",
       "       23.6, 28.7, 22.6, 22. , 22.9, 25. , 20.6, 28.4, 21.4, 38.7, 43.8,\n",
       "       33.2, 27.5, 26.5, 18.6, 19.3, 20.1, 19.5, 19.5, 20.4, 19.8, 19.4,\n",
       "       21.7, 22.8, 18.8, 18.7, 18.5, 18.3, 21.2, 19.2, 20.4, 19.3, 22. ,\n",
       "       20.3, 20.5, 17.3, 18.8, 21.4, 15.7, 16.2, 18. , 14.3, 19.2, 19.6,\n",
       "       23. , 18.4, 15.6, 18.1, 17.4, 17.1, 13.3, 17.8, 14. , 14.4, 13.4,\n",
       "       15.6, 11.8, 13.8, 15.6, 14.6, 17.8, 15.4, 21.5, 19.6, 15.3, 19.4,\n",
       "       17. , 15.6, 13.1, 41.3, 24.3, 23.3, 27. , 50. , 50. , 50. , 22.7,\n",
       "       25. , 50. , 23.8, 23.8, 22.3, 17.4, 19.1, 23.1, 23.6, 22.6, 29.4,\n",
       "       23.2, 24.6, 29.9, 37.2, 39.8, 36.2, 37.9, 32.5, 26.4, 29.6, 50. ,\n",
       "       32. , 29.8, 34.9, 37. , 30.5, 36.4, 31.1, 29.1, 50. , 33.3, 30.3,\n",
       "       34.6, 34.9, 32.9, 24.1, 42.3, 48.5, 50. , 22.6, 24.4, 22.5, 24.4,\n",
       "       20. , 21.7, 19.3, 22.4, 28.1, 23.7, 25. , 23.3, 28.7, 21.5, 23. ,\n",
       "       26.7, 21.7, 27.5, 30.1, 44.8, 50. , 37.6, 31.6, 46.7, 31.5, 24.3,\n",
       "       31.7, 41.7, 48.3, 29. , 24. , 25.1, 31.5, 23.7, 23.3, 22. , 20.1,\n",
       "       22.2, 23.7, 17.6, 18.5, 24.3, 20.5, 24.5, 26.2, 24.4, 24.8, 29.6,\n",
       "       42.8, 21.9, 20.9, 44. , 50. , 36. , 30.1, 33.8, 43.1, 48.8, 31. ,\n",
       "       36.5, 22.8, 30.7, 50. , 43.5, 20.7, 21.1, 25.2, 24.4, 35.2, 32.4,\n",
       "       32. , 33.2, 33.1, 29.1, 35.1, 45.4, 35.4, 46. , 50. , 32.2, 22. ,\n",
       "       20.1, 23.2, 22.3, 24.8, 28.5, 37.3, 27.9, 23.9, 21.7, 28.6, 27.1,\n",
       "       20.3, 22.5, 29. , 24.8, 22. , 26.4, 33.1, 36.1, 28.4, 33.4, 28.2,\n",
       "       22.8, 20.3, 16.1, 22.1, 19.4, 21.6, 23.8, 16.2, 17.8, 19.8, 23.1,\n",
       "       21. , 23.8, 23.1, 20.4, 18.5, 25. , 24.6, 23. , 22.2, 19.3, 22.6,\n",
       "       19.8, 17.1, 19.4, 22.2, 20.7, 21.1, 19.5, 18.5, 20.6, 19. , 18.7,\n",
       "       32.7, 16.5, 23.9, 31.2, 17.5, 17.2, 23.1, 24.5, 26.6, 22.9, 24.1,\n",
       "       18.6, 30.1, 18.2, 20.6, 17.8, 21.7, 22.7, 22.6, 25. , 19.9, 20.8,\n",
       "       16.8, 21.9, 27.5, 21.9, 23.1, 50. , 50. , 50. , 50. , 50. , 13.8,\n",
       "       13.8, 15. , 13.9, 13.3, 13.1, 10.2, 10.4, 10.9, 11.3, 12.3,  8.8,\n",
       "        7.2, 10.5,  7.4, 10.2, 11.5, 15.1, 23.2,  9.7, 13.8, 12.7, 13.1,\n",
       "       12.5,  8.5,  5. ,  6.3,  5.6,  7.2, 12.1,  8.3,  8.5,  5. , 11.9,\n",
       "       27.9, 17.2, 27.5, 15. , 17.2, 17.9, 16.3,  7. ,  7.2,  7.5, 10.4,\n",
       "        8.8,  8.4, 16.7, 14.2, 20.8, 13.4, 11.7,  8.3, 10.2, 10.9, 11. ,\n",
       "        9.5, 14.5, 14.1, 16.1, 14.3, 11.7, 13.4,  9.6,  8.7,  8.4, 12.8,\n",
       "       10.5, 17.1, 18.4, 15.4, 10.8, 11.8, 14.9, 12.6, 14.1, 13. , 13.4,\n",
       "       15.2, 16.1, 17.8, 14.9, 14.1, 12.7, 13.5, 14.9, 20. , 16.4, 17.7,\n",
       "       19.5, 20.2, 21.4, 19.9, 19. , 19.1, 19.1, 20.1, 19.9, 19.6, 23.2,\n",
       "       29.8, 13.8, 13.3, 16.7, 12. , 14.6, 21.4, 23. , 23.7, 25. , 21.8,\n",
       "       20.6, 21.2, 19.1, 20.6, 15.2,  7. ,  8.1, 13.6, 20.1, 21.8, 24.5,\n",
       "       23.1, 19.7, 18.3, 21.2, 17.5, 16.8, 22.4, 20.6, 23.9, 22. , 11.9])"
      ]
     },
     "execution_count": 11,
     "metadata": {},
     "output_type": "execute_result"
    }
   ],
   "source": [
    "y"
   ]
  },
  {
   "cell_type": "markdown",
   "metadata": {},
   "source": [
    "## Scale Data\n",
    "Neural Networks are especially sensitive to data scaling.  Nearly all the activation functions saturate at (0,1) or (-1,1)."
   ]
  },
  {
   "cell_type": "code",
   "execution_count": 12,
   "metadata": {},
   "outputs": [
    {
     "name": "stdout",
     "output_type": "stream",
     "text": [
      "Note: median values were scaled by multiplying by 0.0275938190 and adding -0.047737\n"
     ]
    }
   ],
   "source": [
    "from sklearn.preprocessing import MinMaxScaler\n",
    "\n",
    "scaler = MinMaxScaler(feature_range=(0,1))\n",
    "scaled_train = scaler.fit_transform(x)\n",
    "\n",
    "# Print out the adjustment that the scaler applied to the total_earnings column of data\n",
    "print(\"Note: median values were scaled by multiplying by {:.10f} and adding {:.6f}\".format(scaler.scale_[12],scaler.min_[12]))\n",
    "multiplied_by = scaler.scale_[12]\n",
    "added = scaler.min_[12]\n",
    "\n",
    "scaled_train_df = pd.DataFrame(scaled_train, columns = x.columns.values)\n"
   ]
  },
  {
   "cell_type": "code",
   "execution_count": 13,
   "metadata": {},
   "outputs": [],
   "source": [
    "import matplotlib.pyplot as plt\n",
    "%matplotlib inline"
   ]
  },
  {
   "cell_type": "code",
   "execution_count": 14,
   "metadata": {},
   "outputs": [
    {
     "data": {
      "image/png": "[encoded data removed]",
      "text/plain": [
       "<Figure size 432x288 with 1 Axes>"
      ]
     },
     "metadata": {
      "needs_background": "light"
     },
     "output_type": "display_data"
    },
    {
     "data": {
      "image/png": "[encoded data removed]",
      "text/plain": [
       "<Figure size 432x288 with 1 Axes>"
      ]
     },
     "metadata": {
      "needs_background": "light"
     },
     "output_type": "display_data"
    },
    {
     "data": {
      "image/png": "[encoded data removed]",
      "text/plain": [
       "<Figure size 432x288 with 1 Axes>"
      ]
     },
     "metadata": {
      "needs_background": "light"
     },
     "output_type": "display_data"
    },
    {
     "data": {
      "image/png": "[encoded data removed]",
      "text/plain": [
       "<Figure size 432x288 with 1 Axes>"
      ]
     },
     "metadata": {
      "needs_background": "light"
     },
     "output_type": "display_data"
    },
    {
     "data": {
      "image/png": "[encoded data removed]",
      "text/plain": [
       "<Figure size 432x288 with 1 Axes>"
      ]
     },
     "metadata": {
      "needs_background": "light"
     },
     "output_type": "display_data"
    },
    {
     "data": {
      "image/png": "[encoded data removed]",
      "text/plain": [
       "<Figure size 432x288 with 1 Axes>"
      ]
     },
     "metadata": {
      "needs_background": "light"
     },
     "output_type": "display_data"
    },
    {
     "data": {
      "image/png": "[encoded data removed]",
      "text/plain": [
       "<Figure size 432x288 with 1 Axes>"
      ]
     },
     "metadata": {
      "needs_background": "light"
     },
     "output_type": "display_data"
    },
    {
     "data": {
      "image/png": "[encoded data removed]",
      "text/plain": [
       "<Figure size 432x288 with 1 Axes>"
      ]
     },
     "metadata": {
      "needs_background": "light"
     },
     "output_type": "display_data"
    },
    {
     "data": {
      "image/png": "[encoded data removed]",
      "text/plain": [
       "<Figure size 432x288 with 1 Axes>"
      ]
     },
     "metadata": {
      "needs_background": "light"
     },
     "output_type": "display_data"
    },
    {
     "data": {
      "image/png": "[encoded data removed]",
      "text/plain": [
       "<Figure size 432x288 with 1 Axes>"
      ]
     },
     "metadata": {
      "needs_background": "light"
     },
     "output_type": "display_data"
    },
    {
     "data": {
      "image/png": "[encoded data removed]",
      "text/plain": [
       "<Figure size 432x288 with 1 Axes>"
      ]
     },
     "metadata": {
      "needs_background": "light"
     },
     "output_type": "display_data"
    },
    {
     "data": {
      "image/png": "[encoded data removed]",
      "text/plain": [
       "<Figure size 432x288 with 1 Axes>"
      ]
     },
     "metadata": {
      "needs_background": "light"
     },
     "output_type": "display_data"
    },
    {
     "data": {
      "image/png": "[encoded data removed]",
      "text/plain": [
       "<Figure size 432x288 with 1 Axes>"
      ]
     },
     "metadata": {
      "needs_background": "light"
     },
     "output_type": "display_data"
    }
   ],
   "source": [
    "for i in scaled_train_df:\n",
    "    scaled_train_df[i].hist()\n",
    "    plt.show()"
   ]
  },
  {
   "cell_type": "markdown",
   "metadata": {},
   "source": [
    "## Model\n",
    "Alright, lets get down to business.  We will use the Sequential() class to build a model.  This means we just add layer after layer to the model (in order).\n",
    "\n",
    "Note that this is NOT the keras package proper.  This is an implementation of the Keras API in TensorFlow.  They are closely related, but this IS TensorFlow (package), not Keras (package).\n",
    "\n",
    "https://www.tensorflow.org/api_docs/python/tf/keras/Model"
   ]
  },
  {
   "cell_type": "code",
   "execution_count": 15,
   "metadata": {},
   "outputs": [],
   "source": [
    "model = tf.keras.Sequential()\n",
    "\n",
    "model.add(layers.Dense(10, activation = 'sigmoid'))\n",
    "model.add(layers.Dense(1))"
   ]
  },
  {
   "cell_type": "markdown",
   "metadata": {},
   "source": [
    "## Compile Model\n",
    "The compile step adds an optimizer (solver) and your loss metrics."
   ]
  },
  {
   "cell_type": "code",
   "execution_count": 16,
   "metadata": {},
   "outputs": [],
   "source": [
    "model.compile(optimizer='sgd',\n",
    "             loss = 'mean_squared_error',\n",
    "             metrics = ['mean_squared_error'])"
   ]
  },
  {
   "cell_type": "markdown",
   "metadata": {},
   "source": [
    "## Fit Model\n",
    "Now it is time to train."
   ]
  },
  {
   "cell_type": "code",
   "execution_count": 17,
   "metadata": {},
   "outputs": [
    {
     "name": "stdout",
     "output_type": "stream",
     "text": [
      "Train on 506 samples\n",
      "Epoch 1/10\n",
      "506/506 [==============================] - 1s 2ms/sample - loss: 208.4611 - mean_squared_error: 208.4611\n",
      "Epoch 2/10\n",
      "506/506 [==============================] - 0s 55us/sample - loss: 83.2188 - mean_squared_error: 83.2188\n",
      "Epoch 3/10\n",
      "506/506 [==============================] - 0s 55us/sample - loss: 76.0404 - mean_squared_error: 76.0405\n",
      "Epoch 4/10\n",
      "506/506 [==============================] - 0s 55us/sample - loss: 66.4201 - mean_squared_error: 66.4201\n",
      "Epoch 5/10\n",
      "506/506 [==============================] - 0s 55us/sample - loss: 58.4342 - mean_squared_error: 58.4342\n",
      "Epoch 6/10\n",
      "506/506 [==============================] - 0s 55us/sample - loss: 52.6222 - mean_squared_error: 52.6222\n",
      "Epoch 7/10\n",
      "506/506 [==============================] - 0s 55us/sample - loss: 48.2957 - mean_squared_error: 48.2957\n",
      "Epoch 8/10\n",
      "506/506 [==============================] - 0s 53us/sample - loss: 45.4939 - mean_squared_error: 45.4939\n",
      "Epoch 9/10\n",
      "506/506 [==============================] - 0s 57us/sample - loss: 43.6294 - mean_squared_error: 43.6294\n",
      "Epoch 10/10\n",
      "506/506 [==============================] - 0s 55us/sample - loss: 40.6359 - mean_squared_error: 40.6359\n"
     ]
    },
    {
     "data": {
      "text/plain": [
       "<tensorflow.python.keras.callbacks.History at 0x24aa4e87b38>"
      ]
     },
     "execution_count": 17,
     "metadata": {},
     "output_type": "execute_result"
    }
   ],
   "source": [
    "model.fit(scaled_train_df.values, y, epochs = 10, batch_size = 32)"
   ]
  },
  {
   "cell_type": "markdown",
   "metadata": {},
   "source": [
    "## Visualize the data\n",
    "TensorBoard allows you to look at your training curves in real time.  All we need to do here is add a \"callback\" that is executed every epoch.  TensorBoard writes a summary of the model output.  If you manually build a neural network, you need to add tf.summary operations."
   ]
  },
  {
   "cell_type": "code",
   "execution_count": 18,
   "metadata": {},
   "outputs": [],
   "source": [
    "from tensorflow.keras.callbacks import TensorBoard\n",
    "\n",
    "log_dir = 'logs'\n",
    "tb = TensorBoard(log_dir=log_dir, histogram_freq=1)"
   ]
  },
  {
   "cell_type": "markdown",
   "metadata": {},
   "source": [
    "**In your terminal, you'll need to tell TensorBoard where your logs are being stored**\n",
    "\n",
    "Ex. CUS_C02VJ0NQHTDF:~ bblanchard006$ tensorboard --logdir /Users/bblanop/SMU/QTW/logs"
   ]
  },
  {
   "cell_type": "code",
   "execution_count": 19,
   "metadata": {},
   "outputs": [],
   "source": [
    "model.compile(optimizer=tf.optimizers.SGD(0.001),\n",
    "             loss='mean_squared_error',\n",
    "             metrics=['mean_squared_error'])"
   ]
  },
  {
   "cell_type": "code",
   "execution_count": 20,
   "metadata": {},
   "outputs": [
    {
     "name": "stdout",
     "output_type": "stream",
     "text": [
      "Train on 506 samples\n",
      "Epoch 1/100\n",
      "506/506 [==============================] - 0s 757us/sample - loss: 38.9971 - mean_squared_error: 38.9971\n",
      "Epoch 2/100\n",
      "506/506 [==============================] - 0s 262us/sample - loss: 38.5495 - mean_squared_error: 38.5495\n",
      "Epoch 3/100\n",
      "506/506 [==============================] - 0s 179us/sample - loss: 38.2748 - mean_squared_error: 38.2748\n",
      "Epoch 4/100\n",
      "506/506 [==============================] - 0s 179us/sample - loss: 37.9425 - mean_squared_error: 37.9425\n",
      "Epoch 5/100\n",
      "506/506 [==============================] - 0s 179us/sample - loss: 37.5781 - mean_squared_error: 37.5781\n",
      "Epoch 6/100\n",
      "506/506 [==============================] - 0s 179us/sample - loss: 37.2850 - mean_squared_error: 37.2850\n",
      "Epoch 7/100\n",
      "506/506 [==============================] - 0s 181us/sample - loss: 36.9426 - mean_squared_error: 36.9426\n",
      "Epoch 8/100\n",
      "506/506 [==============================] - 0s 162us/sample - loss: 36.6404 - mean_squared_error: 36.6404\n",
      "Epoch 9/100\n",
      "506/506 [==============================] - 0s 164us/sample - loss: 36.2836 - mean_squared_error: 36.2836\n",
      "Epoch 10/100\n",
      "506/506 [==============================] - 0s 195us/sample - loss: 35.9827 - mean_squared_error: 35.9827\n",
      "Epoch 11/100\n",
      "506/506 [==============================] - 0s 179us/sample - loss: 35.7771 - mean_squared_error: 35.7771\n",
      "Epoch 12/100\n",
      "506/506 [==============================] - 0s 181us/sample - loss: 35.4555 - mean_squared_error: 35.4555\n",
      "Epoch 13/100\n",
      "506/506 [==============================] - 0s 179us/sample - loss: 35.1264 - mean_squared_error: 35.1264\n",
      "Epoch 14/100\n",
      "506/506 [==============================] - 0s 179us/sample - loss: 34.8379 - mean_squared_error: 34.8379\n",
      "Epoch 15/100\n",
      "506/506 [==============================] - 0s 179us/sample - loss: 34.5601 - mean_squared_error: 34.5601\n",
      "Epoch 16/100\n",
      "506/506 [==============================] - 0s 177us/sample - loss: 34.2221 - mean_squared_error: 34.2221\n",
      "Epoch 17/100\n",
      "506/506 [==============================] - 0s 179us/sample - loss: 33.9685 - mean_squared_error: 33.9685\n",
      "Epoch 18/100\n",
      "506/506 [==============================] - 0s 179us/sample - loss: 33.6803 - mean_squared_error: 33.6803\n",
      "Epoch 19/100\n",
      "506/506 [==============================] - 0s 162us/sample - loss: 33.4444 - mean_squared_error: 33.4444\n",
      "Epoch 20/100\n",
      "506/506 [==============================] - 0s 164us/sample - loss: 33.1577 - mean_squared_error: 33.1577\n",
      "Epoch 21/100\n",
      "506/506 [==============================] - 0s 148us/sample - loss: 32.8997 - mean_squared_error: 32.8997\n",
      "Epoch 22/100\n",
      "506/506 [==============================] - 0s 164us/sample - loss: 32.6090 - mean_squared_error: 32.6090\n",
      "Epoch 23/100\n",
      "506/506 [==============================] - 0s 179us/sample - loss: 32.3349 - mean_squared_error: 32.3349\n",
      "Epoch 24/100\n",
      "506/506 [==============================] - 0s 213us/sample - loss: 32.1048 - mean_squared_error: 32.1048\n",
      "Epoch 25/100\n",
      "506/506 [==============================] - 0s 179us/sample - loss: 31.8405 - mean_squared_error: 31.8405\n",
      "Epoch 26/100\n",
      "506/506 [==============================] - 0s 179us/sample - loss: 31.6489 - mean_squared_error: 31.6489\n",
      "Epoch 27/100\n",
      "506/506 [==============================] - 0s 162us/sample - loss: 31.3746 - mean_squared_error: 31.3746\n",
      "Epoch 28/100\n",
      "506/506 [==============================] - 0s 146us/sample - loss: 31.1683 - mean_squared_error: 31.1683\n",
      "Epoch 29/100\n",
      "506/506 [==============================] - 0s 148us/sample - loss: 30.9136 - mean_squared_error: 30.9136\n",
      "Epoch 30/100\n",
      "506/506 [==============================] - 0s 181us/sample - loss: 30.6940 - mean_squared_error: 30.6940\n",
      "Epoch 31/100\n",
      "506/506 [==============================] - 0s 162us/sample - loss: 30.4660 - mean_squared_error: 30.4660\n",
      "Epoch 32/100\n",
      "506/506 [==============================] - 0s 164us/sample - loss: 30.2729 - mean_squared_error: 30.2729\n",
      "Epoch 33/100\n",
      "506/506 [==============================] - 0s 162us/sample - loss: 30.0803 - mean_squared_error: 30.0803\n",
      "Epoch 34/100\n",
      "506/506 [==============================] - 0s 197us/sample - loss: 29.8289 - mean_squared_error: 29.8289\n",
      "Epoch 35/100\n",
      "506/506 [==============================] - 0s 209us/sample - loss: 29.6442 - mean_squared_error: 29.6442\n",
      "Epoch 36/100\n",
      "506/506 [==============================] - 0s 166us/sample - loss: 29.4198 - mean_squared_error: 29.4198\n",
      "Epoch 37/100\n",
      "506/506 [==============================] - 0s 164us/sample - loss: 29.2416 - mean_squared_error: 29.2416\n",
      "Epoch 38/100\n",
      "506/506 [==============================] - 0s 146us/sample - loss: 29.0601 - mean_squared_error: 29.0601\n",
      "Epoch 39/100\n",
      "506/506 [==============================] - 0s 162us/sample - loss: 28.8629 - mean_squared_error: 28.8629\n",
      "Epoch 40/100\n",
      "506/506 [==============================] - 0s 146us/sample - loss: 28.6730 - mean_squared_error: 28.6730\n",
      "Epoch 41/100\n",
      "506/506 [==============================] - 0s 164us/sample - loss: 28.4973 - mean_squared_error: 28.4973\n",
      "Epoch 42/100\n",
      "506/506 [==============================] - 0s 162us/sample - loss: 28.2667 - mean_squared_error: 28.2667\n",
      "Epoch 43/100\n",
      "506/506 [==============================] - 0s 164us/sample - loss: 28.1308 - mean_squared_error: 28.1308\n",
      "Epoch 44/100\n",
      "506/506 [==============================] - 0s 162us/sample - loss: 27.9108 - mean_squared_error: 27.9108\n",
      "Epoch 45/100\n",
      "506/506 [==============================] - 0s 262us/sample - loss: 27.7307 - mean_squared_error: 27.7307\n",
      "Epoch 46/100\n",
      "506/506 [==============================] - 0s 146us/sample - loss: 27.6325 - mean_squared_error: 27.6325\n",
      "Epoch 47/100\n",
      "506/506 [==============================] - 0s 195us/sample - loss: 27.4123 - mean_squared_error: 27.4123\n",
      "Epoch 48/100\n",
      "506/506 [==============================] - 0s 164us/sample - loss: 27.3283 - mean_squared_error: 27.3283\n",
      "Epoch 49/100\n",
      "506/506 [==============================] - 0s 148us/sample - loss: 27.0895 - mean_squared_error: 27.0895\n",
      "Epoch 50/100\n",
      "506/506 [==============================] - 0s 146us/sample - loss: 26.9577 - mean_squared_error: 26.9577\n",
      "Epoch 51/100\n",
      "506/506 [==============================] - 0s 177us/sample - loss: 26.7993 - mean_squared_error: 26.7993\n",
      "Epoch 52/100\n",
      "506/506 [==============================] - 0s 166us/sample - loss: 26.6178 - mean_squared_error: 26.6178\n",
      "Epoch 53/100\n",
      "506/506 [==============================] - 0s 148us/sample - loss: 26.4826 - mean_squared_error: 26.4826\n",
      "Epoch 54/100\n",
      "506/506 [==============================] - 0s 148us/sample - loss: 26.3305 - mean_squared_error: 26.3305\n",
      "Epoch 55/100\n",
      "506/506 [==============================] - 0s 146us/sample - loss: 26.1995 - mean_squared_error: 26.1995\n",
      "Epoch 56/100\n",
      "506/506 [==============================] - 0s 146us/sample - loss: 26.0424 - mean_squared_error: 26.0424\n",
      "Epoch 57/100\n",
      "506/506 [==============================] - 0s 148us/sample - loss: 25.9576 - mean_squared_error: 25.9576\n",
      "Epoch 58/100\n",
      "506/506 [==============================] - 0s 213us/sample - loss: 25.7782 - mean_squared_error: 25.7782\n",
      "Epoch 59/100\n",
      "506/506 [==============================] - 0s 179us/sample - loss: 25.6241 - mean_squared_error: 25.6241\n",
      "Epoch 60/100\n",
      "506/506 [==============================] - 0s 146us/sample - loss: 25.5218 - mean_squared_error: 25.5218\n",
      "Epoch 61/100\n",
      "506/506 [==============================] - 0s 164us/sample - loss: 25.3709 - mean_squared_error: 25.3709\n",
      "Epoch 62/100\n",
      "506/506 [==============================] - 0s 146us/sample - loss: 25.2663 - mean_squared_error: 25.2663\n",
      "Epoch 63/100\n",
      "506/506 [==============================] - 0s 148us/sample - loss: 25.1275 - mean_squared_error: 25.1275\n",
      "Epoch 64/100\n",
      "506/506 [==============================] - 0s 162us/sample - loss: 25.0181 - mean_squared_error: 25.0181\n",
      "Epoch 65/100\n",
      "506/506 [==============================] - 0s 146us/sample - loss: 24.8783 - mean_squared_error: 24.8783\n",
      "Epoch 66/100\n",
      "506/506 [==============================] - 0s 148us/sample - loss: 24.7453 - mean_squared_error: 24.7453\n",
      "Epoch 67/100\n",
      "506/506 [==============================] - 0s 148us/sample - loss: 24.6259 - mean_squared_error: 24.6259\n",
      "Epoch 68/100\n",
      "506/506 [==============================] - 0s 229us/sample - loss: 24.5547 - mean_squared_error: 24.5547\n",
      "Epoch 69/100\n",
      "506/506 [==============================] - 0s 146us/sample - loss: 24.3936 - mean_squared_error: 24.3936\n",
      "Epoch 70/100\n"
     ]
    },
    {
     "name": "stdout",
     "output_type": "stream",
     "text": [
      "506/506 [==============================] - 0s 146us/sample - loss: 24.3809 - mean_squared_error: 24.3809\n",
      "Epoch 71/100\n",
      "506/506 [==============================] - 0s 244us/sample - loss: 24.1735 - mean_squared_error: 24.1735\n",
      "Epoch 72/100\n",
      "506/506 [==============================] - 0s 148us/sample - loss: 24.0600 - mean_squared_error: 24.0600\n",
      "Epoch 73/100\n",
      "506/506 [==============================] - 0s 148us/sample - loss: 24.0031 - mean_squared_error: 24.0031\n",
      "Epoch 74/100\n",
      "506/506 [==============================] - 0s 146us/sample - loss: 23.8701 - mean_squared_error: 23.8701\n",
      "Epoch 75/100\n",
      "506/506 [==============================] - 0s 164us/sample - loss: 23.8088 - mean_squared_error: 23.8088\n",
      "Epoch 76/100\n",
      "506/506 [==============================] - 0s 197us/sample - loss: 23.7328 - mean_squared_error: 23.7328\n",
      "Epoch 77/100\n",
      "506/506 [==============================] - 0s 146us/sample - loss: 23.6067 - mean_squared_error: 23.6067\n",
      "Epoch 78/100\n",
      "506/506 [==============================] - 0s 162us/sample - loss: 23.5323 - mean_squared_error: 23.5323\n",
      "Epoch 79/100\n",
      "506/506 [==============================] - 0s 164us/sample - loss: 23.4335 - mean_squared_error: 23.4335\n",
      "Epoch 80/100\n",
      "506/506 [==============================] - 0s 146us/sample - loss: 23.3778 - mean_squared_error: 23.3778\n",
      "Epoch 81/100\n",
      "506/506 [==============================] - 0s 146us/sample - loss: 23.3040 - mean_squared_error: 23.3040\n",
      "Epoch 82/100\n",
      "506/506 [==============================] - 0s 148us/sample - loss: 23.1797 - mean_squared_error: 23.1797\n",
      "Epoch 83/100\n",
      "506/506 [==============================] - 0s 177us/sample - loss: 23.0569 - mean_squared_error: 23.0569\n",
      "Epoch 84/100\n",
      "506/506 [==============================] - 0s 148us/sample - loss: 23.0049 - mean_squared_error: 23.0049\n",
      "Epoch 85/100\n",
      "506/506 [==============================] - 0s 164us/sample - loss: 22.8727 - mean_squared_error: 22.8727\n",
      "Epoch 86/100\n",
      "506/506 [==============================] - 0s 146us/sample - loss: 22.8168 - mean_squared_error: 22.8168\n",
      "Epoch 87/100\n",
      "506/506 [==============================] - 0s 146us/sample - loss: 22.7210 - mean_squared_error: 22.7210\n",
      "Epoch 88/100\n",
      "506/506 [==============================] - 0s 146us/sample - loss: 22.6433 - mean_squared_error: 22.6433\n",
      "Epoch 89/100\n",
      "506/506 [==============================] - 0s 146us/sample - loss: 22.5657 - mean_squared_error: 22.5657\n",
      "Epoch 90/100\n",
      "506/506 [==============================] - 0s 146us/sample - loss: 22.5262 - mean_squared_error: 22.5262\n",
      "Epoch 91/100\n",
      "506/506 [==============================] - 0s 146us/sample - loss: 22.4207 - mean_squared_error: 22.4207\n",
      "Epoch 92/100\n",
      "506/506 [==============================] - 0s 146us/sample - loss: 22.3524 - mean_squared_error: 22.3524\n",
      "Epoch 93/100\n",
      "506/506 [==============================] - 0s 148us/sample - loss: 22.3521 - mean_squared_error: 22.3521\n",
      "Epoch 94/100\n",
      "506/506 [==============================] - 0s 148us/sample - loss: 22.2062 - mean_squared_error: 22.2062\n",
      "Epoch 95/100\n",
      "506/506 [==============================] - 0s 148us/sample - loss: 22.1398 - mean_squared_error: 22.1398\n",
      "Epoch 96/100\n",
      "506/506 [==============================] - 0s 195us/sample - loss: 22.1051 - mean_squared_error: 22.1051\n",
      "Epoch 97/100\n",
      "506/506 [==============================] - 0s 146us/sample - loss: 22.0380 - mean_squared_error: 22.0380\n",
      "Epoch 98/100\n",
      "506/506 [==============================] - 0s 148us/sample - loss: 21.9854 - mean_squared_error: 21.9854\n",
      "Epoch 99/100\n",
      "506/506 [==============================] - 0s 148us/sample - loss: 21.8674 - mean_squared_error: 21.8674\n",
      "Epoch 100/100\n",
      "506/506 [==============================] - 0s 146us/sample - loss: 21.8046 - mean_squared_error: 21.8046\n"
     ]
    },
    {
     "data": {
      "text/plain": [
       "<tensorflow.python.keras.callbacks.History at 0x24a909a61d0>"
      ]
     },
     "execution_count": 20,
     "metadata": {},
     "output_type": "execute_result"
    }
   ],
   "source": [
    "model.fit(scaled_train_df.values, y, epochs=100, batch_size=20, callbacks=[tb])"
   ]
  },
  {
   "cell_type": "markdown",
   "metadata": {},
   "source": [
    "## Validate!\n",
    "SO far we have used the entire dataset to train.  We know that this is not acceptable.  In Neural Networks, rather than a cross validation, a validation split is done.  Lets repeat the experiment with splits."
   ]
  },
  {
   "cell_type": "code",
   "execution_count": 21,
   "metadata": {},
   "outputs": [],
   "source": [
    "from sklearn.model_selection import train_test_split\n",
    "x_train, x_test, y_train, y_test = train_test_split(scaled_train_df, y, test_size=0.20, random_state=101)"
   ]
  },
  {
   "cell_type": "code",
   "execution_count": 22,
   "metadata": {},
   "outputs": [],
   "source": [
    "model_final = tf.keras.Sequential()\n",
    "\n",
    "model_final.add(layers.Dense(100, activation='sigmoid'))\n",
    "model_final.add(layers.Dense(100, activation='sigmoid'))\n",
    "model_final.add(layers.Dense(1))"
   ]
  },
  {
   "cell_type": "code",
   "execution_count": 23,
   "metadata": {},
   "outputs": [],
   "source": [
    "model_final.compile(optimizer=tf.optimizers.SGD(0.001),\n",
    "             loss='mean_squared_error',\n",
    "             metrics=['mean_squared_error'])"
   ]
  },
  {
   "cell_type": "code",
   "execution_count": 24,
   "metadata": {},
   "outputs": [
    {
     "name": "stdout",
     "output_type": "stream",
     "text": [
      "Train on 404 samples, validate on 102 samples\n",
      "Epoch 1/100\n",
      "404/404 [==============================] - 0s 1ms/sample - loss: 272.7851 - mean_squared_error: 272.7851 - val_loss: 130.0838 - val_mean_squared_error: 130.0838\n",
      "Epoch 2/100\n",
      "404/404 [==============================] - 0s 306us/sample - loss: 79.9234 - mean_squared_error: 79.9234 - val_loss: 113.9526 - val_mean_squared_error: 113.9526\n",
      "Epoch 3/100\n",
      "404/404 [==============================] - 0s 306us/sample - loss: 77.3853 - mean_squared_error: 77.3853 - val_loss: 112.2700 - val_mean_squared_error: 112.2700\n",
      "Epoch 4/100\n",
      "404/404 [==============================] - 0s 326us/sample - loss: 77.1486 - mean_squared_error: 77.1486 - val_loss: 112.4688 - val_mean_squared_error: 112.4688\n",
      "Epoch 5/100\n",
      "404/404 [==============================] - 0s 432us/sample - loss: 77.1808 - mean_squared_error: 77.1808 - val_loss: 113.4608 - val_mean_squared_error: 113.4608\n",
      "Epoch 6/100\n",
      "404/404 [==============================] - 0s 264us/sample - loss: 77.0973 - mean_squared_error: 77.0973 - val_loss: 111.7155 - val_mean_squared_error: 111.7155\n",
      "Epoch 7/100\n",
      "404/404 [==============================] - 0s 244us/sample - loss: 77.4513 - mean_squared_error: 77.4513 - val_loss: 113.2175 - val_mean_squared_error: 113.2175\n",
      "Epoch 8/100\n",
      "404/404 [==============================] - 0s 242us/sample - loss: 76.7087 - mean_squared_error: 76.7087 - val_loss: 112.2507 - val_mean_squared_error: 112.2507\n",
      "Epoch 9/100\n",
      "404/404 [==============================] - 0s 247us/sample - loss: 76.5786 - mean_squared_error: 76.5786 - val_loss: 111.9478 - val_mean_squared_error: 111.9478\n",
      "Epoch 10/100\n",
      "404/404 [==============================] - 0s 264us/sample - loss: 76.5734 - mean_squared_error: 76.5734 - val_loss: 110.8473 - val_mean_squared_error: 110.8473\n",
      "Epoch 11/100\n",
      "404/404 [==============================] - 0s 247us/sample - loss: 76.9147 - mean_squared_error: 76.9147 - val_loss: 111.2340 - val_mean_squared_error: 111.2340\n",
      "Epoch 12/100\n",
      "404/404 [==============================] - 0s 244us/sample - loss: 76.2768 - mean_squared_error: 76.2768 - val_loss: 110.7721 - val_mean_squared_error: 110.7721\n",
      "Epoch 13/100\n",
      "404/404 [==============================] - ETA: 0s - loss: 37.6670 - mean_squared_error: 37.66 - 0s 244us/sample - loss: 76.1974 - mean_squared_error: 76.1974 - val_loss: 110.5890 - val_mean_squared_error: 110.5890\n",
      "Epoch 14/100\n",
      "404/404 [==============================] - 0s 368us/sample - loss: 76.0765 - mean_squared_error: 76.0765 - val_loss: 110.2258 - val_mean_squared_error: 110.2258\n",
      "Epoch 15/100\n",
      "404/404 [==============================] - 0s 264us/sample - loss: 76.1127 - mean_squared_error: 76.1127 - val_loss: 112.9056 - val_mean_squared_error: 112.9056\n",
      "Epoch 16/100\n",
      "404/404 [==============================] - 0s 267us/sample - loss: 76.0960 - mean_squared_error: 76.0960 - val_loss: 111.1381 - val_mean_squared_error: 111.1381\n",
      "Epoch 17/100\n",
      "404/404 [==============================] - 0s 244us/sample - loss: 75.3399 - mean_squared_error: 75.3399 - val_loss: 110.2395 - val_mean_squared_error: 110.2395\n",
      "Epoch 18/100\n",
      "404/404 [==============================] - 0s 247us/sample - loss: 75.4596 - mean_squared_error: 75.4596 - val_loss: 111.0866 - val_mean_squared_error: 111.0866\n",
      "Epoch 19/100\n",
      "404/404 [==============================] - 0s 264us/sample - loss: 75.4617 - mean_squared_error: 75.4617 - val_loss: 110.3362 - val_mean_squared_error: 110.3362\n",
      "Epoch 20/100\n",
      "404/404 [==============================] - 0s 247us/sample - loss: 74.8764 - mean_squared_error: 74.8764 - val_loss: 109.9395 - val_mean_squared_error: 109.9394\n",
      "Epoch 21/100\n",
      "404/404 [==============================] - ETA: 0s - loss: 76.4198 - mean_squared_error: 76.41 - 0s 244us/sample - loss: 74.8836 - mean_squared_error: 74.8836 - val_loss: 109.7073 - val_mean_squared_error: 109.7073\n",
      "Epoch 22/100\n",
      "404/404 [==============================] - 0s 309us/sample - loss: 74.9008 - mean_squared_error: 74.9008 - val_loss: 110.0309 - val_mean_squared_error: 110.0309\n",
      "Epoch 23/100\n",
      "404/404 [==============================] - 0s 390us/sample - loss: 74.7456 - mean_squared_error: 74.7456 - val_loss: 109.4140 - val_mean_squared_error: 109.4140\n",
      "Epoch 24/100\n",
      "404/404 [==============================] - 0s 244us/sample - loss: 74.3581 - mean_squared_error: 74.3581 - val_loss: 110.4125 - val_mean_squared_error: 110.4125\n",
      "Epoch 25/100\n",
      "404/404 [==============================] - 0s 244us/sample - loss: 74.4244 - mean_squared_error: 74.4244 - val_loss: 109.8056 - val_mean_squared_error: 109.8056\n",
      "Epoch 26/100\n",
      "404/404 [==============================] - 0s 247us/sample - loss: 74.3039 - mean_squared_error: 74.3039 - val_loss: 108.2996 - val_mean_squared_error: 108.2996\n",
      "Epoch 27/100\n",
      "404/404 [==============================] - ETA: 0s - loss: 105.3731 - mean_squared_error: 105.37 - 0s 244us/sample - loss: 73.6901 - mean_squared_error: 73.6901 - val_loss: 107.5474 - val_mean_squared_error: 107.5474\n",
      "Epoch 28/100\n",
      "404/404 [==============================] - 0s 242us/sample - loss: 73.6388 - mean_squared_error: 73.6388 - val_loss: 108.7603 - val_mean_squared_error: 108.7604\n",
      "Epoch 29/100\n",
      "404/404 [==============================] - 0s 244us/sample - loss: 73.5943 - mean_squared_error: 73.5943 - val_loss: 107.7274 - val_mean_squared_error: 107.7274\n",
      "Epoch 30/100\n",
      "404/404 [==============================] - ETA: 0s - loss: 92.5818 - mean_squared_error: 92.58 - 0s 247us/sample - loss: 73.2917 - mean_squared_error: 73.2917 - val_loss: 106.7824 - val_mean_squared_error: 106.7824\n",
      "Epoch 31/100\n",
      "404/404 [==============================] - 0s 244us/sample - loss: 72.9744 - mean_squared_error: 72.9744 - val_loss: 106.5861 - val_mean_squared_error: 106.5861\n",
      "Epoch 32/100\n",
      "404/404 [==============================] - 0s 244us/sample - loss: 72.5504 - mean_squared_error: 72.5504 - val_loss: 106.7809 - val_mean_squared_error: 106.7809\n",
      "Epoch 33/100\n",
      "404/404 [==============================] - 0s 244us/sample - loss: 72.3338 - mean_squared_error: 72.3338 - val_loss: 106.6628 - val_mean_squared_error: 106.6628\n",
      "Epoch 34/100\n",
      "404/404 [==============================] - 0s 247us/sample - loss: 72.0285 - mean_squared_error: 72.0285 - val_loss: 107.8722 - val_mean_squared_error: 107.8722\n",
      "Epoch 35/100\n",
      "404/404 [==============================] - 0s 264us/sample - loss: 72.0192 - mean_squared_error: 72.0192 - val_loss: 105.3974 - val_mean_squared_error: 105.3974\n",
      "Epoch 36/100\n",
      "404/404 [==============================] - 0s 247us/sample - loss: 71.4929 - mean_squared_error: 71.4929 - val_loss: 103.7303 - val_mean_squared_error: 103.7303\n",
      "Epoch 37/100\n",
      "404/404 [==============================] - 0s 247us/sample - loss: 71.1882 - mean_squared_error: 71.1882 - val_loss: 104.1501 - val_mean_squared_error: 104.1501\n",
      "Epoch 38/100\n",
      "404/404 [==============================] - 0s 244us/sample - loss: 71.0466 - mean_squared_error: 71.0466 - val_loss: 103.2900 - val_mean_squared_error: 103.2900\n",
      "Epoch 39/100\n",
      "404/404 [==============================] - 0s 244us/sample - loss: 70.7974 - mean_squared_error: 70.7974 - val_loss: 103.1124 - val_mean_squared_error: 103.1124\n",
      "Epoch 40/100\n",
      "404/404 [==============================] - 0s 247us/sample - loss: 70.1485 - mean_squared_error: 70.1485 - val_loss: 103.1102 - val_mean_squared_error: 103.1102\n",
      "Epoch 41/100\n",
      "404/404 [==============================] - ETA: 0s - loss: 52.8289 - mean_squared_error: 52.82 - 0s 247us/sample - loss: 69.9038 - mean_squared_error: 69.9038 - val_loss: 101.8227 - val_mean_squared_error: 101.8227\n",
      "Epoch 42/100\n",
      "404/404 [==============================] - 0s 264us/sample - loss: 69.3501 - mean_squared_error: 69.3501 - val_loss: 101.3364 - val_mean_squared_error: 101.3364\n",
      "Epoch 43/100\n",
      "404/404 [==============================] - 0s 244us/sample - loss: 68.9788 - mean_squared_error: 68.9788 - val_loss: 100.9531 - val_mean_squared_error: 100.9531\n",
      "Epoch 44/100\n",
      "404/404 [==============================] - 0s 247us/sample - loss: 68.8096 - mean_squared_error: 68.8096 - val_loss: 100.4363 - val_mean_squared_error: 100.4363\n",
      "Epoch 45/100\n",
      "404/404 [==============================] - 0s 244us/sample - loss: 68.0515 - mean_squared_error: 68.0515 - val_loss: 99.4246 - val_mean_squared_error: 99.4246\n",
      "Epoch 46/100\n"
     ]
    },
    {
     "name": "stdout",
     "output_type": "stream",
     "text": [
      "404/404 [==============================] - 0s 247us/sample - loss: 67.7576 - mean_squared_error: 67.7576 - val_loss: 99.1189 - val_mean_squared_error: 99.1189\n",
      "Epoch 47/100\n",
      "404/404 [==============================] - 0s 244us/sample - loss: 67.1360 - mean_squared_error: 67.1360 - val_loss: 99.8257 - val_mean_squared_error: 99.8257\n",
      "Epoch 48/100\n",
      "404/404 [==============================] - 0s 247us/sample - loss: 66.5454 - mean_squared_error: 66.5454 - val_loss: 97.4320 - val_mean_squared_error: 97.4320\n",
      "Epoch 49/100\n",
      "404/404 [==============================] - 0s 244us/sample - loss: 66.0994 - mean_squared_error: 66.0994 - val_loss: 97.5215 - val_mean_squared_error: 97.5215\n",
      "Epoch 50/100\n",
      "404/404 [==============================] - 0s 244us/sample - loss: 65.2235 - mean_squared_error: 65.2235 - val_loss: 98.4328 - val_mean_squared_error: 98.4328\n",
      "Epoch 51/100\n",
      "404/404 [==============================] - 0s 244us/sample - loss: 64.9977 - mean_squared_error: 64.9977 - val_loss: 95.9881 - val_mean_squared_error: 95.9881\n",
      "Epoch 52/100\n",
      "404/404 [==============================] - 0s 247us/sample - loss: 64.6076 - mean_squared_error: 64.6076 - val_loss: 93.3838 - val_mean_squared_error: 93.3838\n",
      "Epoch 53/100\n",
      "404/404 [==============================] - 0s 244us/sample - loss: 64.0322 - mean_squared_error: 64.0322 - val_loss: 93.2676 - val_mean_squared_error: 93.2676\n",
      "Epoch 54/100\n",
      "404/404 [==============================] - 0s 244us/sample - loss: 63.0110 - mean_squared_error: 63.0110 - val_loss: 92.9030 - val_mean_squared_error: 92.9030\n",
      "Epoch 55/100\n",
      "404/404 [==============================] - 0s 267us/sample - loss: 62.7674 - mean_squared_error: 62.7674 - val_loss: 92.1868 - val_mean_squared_error: 92.1868\n",
      "Epoch 56/100\n",
      "404/404 [==============================] - 0s 289us/sample - loss: 61.6380 - mean_squared_error: 61.6380 - val_loss: 90.8026 - val_mean_squared_error: 90.8026\n",
      "Epoch 57/100\n",
      "404/404 [==============================] - 0s 286us/sample - loss: 61.0686 - mean_squared_error: 61.0686 - val_loss: 90.6033 - val_mean_squared_error: 90.6033\n",
      "Epoch 58/100\n",
      "404/404 [==============================] - 0s 289us/sample - loss: 60.5751 - mean_squared_error: 60.5751 - val_loss: 89.0036 - val_mean_squared_error: 89.0036\n",
      "Epoch 59/100\n",
      "404/404 [==============================] - 0s 286us/sample - loss: 59.6682 - mean_squared_error: 59.6682 - val_loss: 89.7526 - val_mean_squared_error: 89.7526\n",
      "Epoch 60/100\n",
      "404/404 [==============================] - 0s 286us/sample - loss: 59.3831 - mean_squared_error: 59.3831 - val_loss: 87.2816 - val_mean_squared_error: 87.2816\n",
      "Epoch 61/100\n",
      "404/404 [==============================] - 0s 363us/sample - loss: 58.2723 - mean_squared_error: 58.2723 - val_loss: 85.2886 - val_mean_squared_error: 85.2886\n",
      "Epoch 62/100\n",
      "404/404 [==============================] - 0s 272us/sample - loss: 57.7809 - mean_squared_error: 57.7809 - val_loss: 84.4883 - val_mean_squared_error: 84.4883\n",
      "Epoch 63/100\n",
      "404/404 [==============================] - 0s 286us/sample - loss: 57.2462 - mean_squared_error: 57.2462 - val_loss: 84.0594 - val_mean_squared_error: 84.0594\n",
      "Epoch 64/100\n",
      "404/404 [==============================] - 0s 286us/sample - loss: 56.2447 - mean_squared_error: 56.2447 - val_loss: 81.9522 - val_mean_squared_error: 81.9522\n",
      "Epoch 65/100\n",
      "404/404 [==============================] - 0s 286us/sample - loss: 55.9297 - mean_squared_error: 55.9297 - val_loss: 80.8885 - val_mean_squared_error: 80.8885\n",
      "Epoch 66/100\n",
      "404/404 [==============================] - 0s 286us/sample - loss: 55.0165 - mean_squared_error: 55.0165 - val_loss: 79.9605 - val_mean_squared_error: 79.9605\n",
      "Epoch 67/100\n",
      "404/404 [==============================] - 0s 348us/sample - loss: 54.2148 - mean_squared_error: 54.2148 - val_loss: 81.2245 - val_mean_squared_error: 81.2245\n",
      "Epoch 68/100\n",
      "404/404 [==============================] - 0s 286us/sample - loss: 53.9699 - mean_squared_error: 53.9699 - val_loss: 77.5506 - val_mean_squared_error: 77.5506\n",
      "Epoch 69/100\n",
      "404/404 [==============================] - 0s 284us/sample - loss: 52.9930 - mean_squared_error: 52.9930 - val_loss: 76.1529 - val_mean_squared_error: 76.1529\n",
      "Epoch 70/100\n",
      "404/404 [==============================] - 0s 286us/sample - loss: 52.5784 - mean_squared_error: 52.5784 - val_loss: 77.4296 - val_mean_squared_error: 77.4296\n",
      "Epoch 71/100\n",
      "404/404 [==============================] - 0s 286us/sample - loss: 51.7757 - mean_squared_error: 51.7757 - val_loss: 75.6506 - val_mean_squared_error: 75.6507\n",
      "Epoch 72/100\n",
      "404/404 [==============================] - 0s 286us/sample - loss: 51.2820 - mean_squared_error: 51.2820 - val_loss: 75.3053 - val_mean_squared_error: 75.3053\n",
      "Epoch 73/100\n",
      "404/404 [==============================] - 0s 286us/sample - loss: 50.9550 - mean_squared_error: 50.9550 - val_loss: 75.0996 - val_mean_squared_error: 75.0996\n",
      "Epoch 74/100\n",
      "404/404 [==============================] - 0s 410us/sample - loss: 50.3222 - mean_squared_error: 50.3222 - val_loss: 72.0128 - val_mean_squared_error: 72.0128\n",
      "Epoch 75/100\n",
      "404/404 [==============================] - 0s 286us/sample - loss: 49.8917 - mean_squared_error: 49.8917 - val_loss: 70.6614 - val_mean_squared_error: 70.6614\n",
      "Epoch 76/100\n",
      "404/404 [==============================] - 0s 289us/sample - loss: 49.3914 - mean_squared_error: 49.3914 - val_loss: 69.9203 - val_mean_squared_error: 69.9203\n",
      "Epoch 77/100\n",
      "404/404 [==============================] - 0s 284us/sample - loss: 48.6524 - mean_squared_error: 48.6524 - val_loss: 72.3283 - val_mean_squared_error: 72.3283\n",
      "Epoch 78/100\n",
      "404/404 [==============================] - 0s 309us/sample - loss: 48.0566 - mean_squared_error: 48.0566 - val_loss: 70.4746 - val_mean_squared_error: 70.4746\n",
      "Epoch 79/100\n",
      "404/404 [==============================] - 0s 286us/sample - loss: 47.7817 - mean_squared_error: 47.7817 - val_loss: 68.0446 - val_mean_squared_error: 68.0446\n",
      "Epoch 80/100\n",
      "404/404 [==============================] - 0s 286us/sample - loss: 47.2212 - mean_squared_error: 47.2212 - val_loss: 69.8035 - val_mean_squared_error: 69.8035\n",
      "Epoch 81/100\n",
      "404/404 [==============================] - 0s 286us/sample - loss: 47.1711 - mean_squared_error: 47.1711 - val_loss: 66.9278 - val_mean_squared_error: 66.9278\n",
      "Epoch 82/100\n",
      "404/404 [==============================] - 0s 264us/sample - loss: 46.4775 - mean_squared_error: 46.4775 - val_loss: 68.3980 - val_mean_squared_error: 68.3980\n",
      "Epoch 83/100\n",
      "404/404 [==============================] - 0s 247us/sample - loss: 46.1398 - mean_squared_error: 46.1398 - val_loss: 65.5064 - val_mean_squared_error: 65.5064\n",
      "Epoch 84/100\n",
      "404/404 [==============================] - 0s 244us/sample - loss: 45.7367 - mean_squared_error: 45.7367 - val_loss: 67.0235 - val_mean_squared_error: 67.0235\n",
      "Epoch 85/100\n",
      "404/404 [==============================] - 0s 264us/sample - loss: 45.2908 - mean_squared_error: 45.2908 - val_loss: 65.3634 - val_mean_squared_error: 65.3634\n",
      "Epoch 86/100\n",
      "404/404 [==============================] - 0s 267us/sample - loss: 44.8541 - mean_squared_error: 44.8541 - val_loss: 64.6974 - val_mean_squared_error: 64.6974\n",
      "Epoch 87/100\n",
      "404/404 [==============================] - 0s 306us/sample - loss: 44.3846 - mean_squared_error: 44.3846 - val_loss: 66.2415 - val_mean_squared_error: 66.2415\n",
      "Epoch 88/100\n",
      "404/404 [==============================] - 0s 432us/sample - loss: 44.3131 - mean_squared_error: 44.3131 - val_loss: 63.9581 - val_mean_squared_error: 63.9581\n",
      "Epoch 89/100\n",
      "404/404 [==============================] - 0s 244us/sample - loss: 43.8279 - mean_squared_error: 43.8279 - val_loss: 61.6611 - val_mean_squared_error: 61.6611\n",
      "Epoch 90/100\n",
      "404/404 [==============================] - 0s 244us/sample - loss: 43.7084 - mean_squared_error: 43.7084 - val_loss: 62.9019 - val_mean_squared_error: 62.9019\n",
      "Epoch 91/100\n",
      "404/404 [==============================] - 0s 244us/sample - loss: 43.1779 - mean_squared_error: 43.1779 - val_loss: 62.4830 - val_mean_squared_error: 62.4830\n",
      "Epoch 92/100\n",
      "404/404 [==============================] - 0s 267us/sample - loss: 43.0755 - mean_squared_error: 43.0755 - val_loss: 59.8876 - val_mean_squared_error: 59.8876\n",
      "Epoch 93/100\n",
      "404/404 [==============================] - 0s 267us/sample - loss: 42.6871 - mean_squared_error: 42.6871 - val_loss: 61.3310 - val_mean_squared_error: 61.3310\n"
     ]
    },
    {
     "name": "stdout",
     "output_type": "stream",
     "text": [
      "Epoch 94/100\n",
      "404/404 [==============================] - 0s 247us/sample - loss: 42.1744 - mean_squared_error: 42.1744 - val_loss: 58.9951 - val_mean_squared_error: 58.9951\n",
      "Epoch 95/100\n",
      "404/404 [==============================] - 0s 306us/sample - loss: 41.8929 - mean_squared_error: 41.8929 - val_loss: 59.1408 - val_mean_squared_error: 59.1408\n",
      "Epoch 96/100\n",
      "404/404 [==============================] - 0s 244us/sample - loss: 41.4358 - mean_squared_error: 41.4358 - val_loss: 59.8243 - val_mean_squared_error: 59.8243\n",
      "Epoch 97/100\n",
      "404/404 [==============================] - 0s 242us/sample - loss: 41.1168 - mean_squared_error: 41.1168 - val_loss: 58.7552 - val_mean_squared_error: 58.7552\n",
      "Epoch 98/100\n",
      "404/404 [==============================] - ETA: 0s - loss: 130.9498 - mean_squared_error: 130.94 - 0s 247us/sample - loss: 40.9570 - mean_squared_error: 40.9570 - val_loss: 60.2692 - val_mean_squared_error: 60.2692\n",
      "Epoch 99/100\n",
      "404/404 [==============================] - 0s 264us/sample - loss: 40.5600 - mean_squared_error: 40.5600 - val_loss: 56.2825 - val_mean_squared_error: 56.2825\n",
      "Epoch 100/100\n",
      "404/404 [==============================] - 0s 247us/sample - loss: 40.2567 - mean_squared_error: 40.2567 - val_loss: 57.1727 - val_mean_squared_error: 57.1727\n"
     ]
    },
    {
     "data": {
      "text/plain": [
       "<tensorflow.python.keras.callbacks.History at 0x24aa4f4b4a8>"
      ]
     },
     "execution_count": 24,
     "metadata": {},
     "output_type": "execute_result"
    }
   ],
   "source": [
    "model_final.fit(x_train.values, y_train, validation_data=(x_test.values,y_test), epochs=100, batch_size=20, callbacks=[tb])\n"
   ]
  },
  {
   "cell_type": "markdown",
   "metadata": {},
   "source": [
    "## Classification?\n",
    "The only thing we really need to change is the final layer to predict classes."
   ]
  },
  {
   "cell_type": "code",
   "execution_count": 25,
   "metadata": {},
   "outputs": [],
   "source": [
    "model_iris = tf.keras.Sequential()\n",
    "\n",
    "model_iris.add(layers.Dense(100, activation = 'sigmoid'))\n",
    "model_iris.add(layers.Dense(100, activation = 'sigmoid'))\n",
    "model_iris.add(layers.Dense(3, activation = 'sigmoid'))\n",
    "\n",
    "model_iris.compile(optimizer=tf.optimizers.SGD(0.01),\n",
    "             loss=tf.keras.losses.SparseCategoricalCrossentropy(),\n",
    "             metrics=['accuracy'])\n",
    "\n",
    "log_dir = 'iris_logs'\n",
    "tb_iris = TensorBoard(log_dir=log_dir, histogram_freq=1)"
   ]
  },
  {
   "cell_type": "markdown",
   "metadata": {},
   "source": [
    "**In your terminal, you'll need to tell tensorboard where your logs are being stored**\n",
    "\n",
    "Ex. CUS_C02VJ0NQHTDF:~ bblanchard006$ tensorboard --logdir /Users/bblanop/SMU/QTW/iris_logs"
   ]
  },
  {
   "cell_type": "code",
   "execution_count": 26,
   "metadata": {},
   "outputs": [],
   "source": [
    "iris = datasets.load_iris()"
   ]
  },
  {
   "cell_type": "code",
   "execution_count": 27,
   "metadata": {},
   "outputs": [],
   "source": [
    "x = iris['data']\n",
    "y = iris['target']\n",
    "\n",
    "x_train, x_test, y_train, y_test = train_test_split(x, y, test_size=0.20, random_state=102)"
   ]
  },
  {
   "cell_type": "code",
   "execution_count": 28,
   "metadata": {},
   "outputs": [
    {
     "name": "stdout",
     "output_type": "stream",
     "text": [
      "Train on 120 samples, validate on 30 samples\n",
      "Epoch 1/100\n",
      "120/120 [==============================] - 1s 6ms/sample - loss: 1.1195 - accuracy: 0.3250 - val_loss: 1.0917 - val_accuracy: 0.3667\n",
      "Epoch 2/100\n",
      "120/120 [==============================] - 0s 997us/sample - loss: 1.1083 - accuracy: 0.3250 - val_loss: 1.0940 - val_accuracy: 0.3667\n",
      "Epoch 3/100\n",
      "120/120 [==============================] - 0s 972us/sample - loss: 1.1039 - accuracy: 0.3250 - val_loss: 1.0961 - val_accuracy: 0.3667\n",
      "Epoch 4/100\n",
      "120/120 [==============================] - 0s 1ms/sample - loss: 1.1014 - accuracy: 0.3250 - val_loss: 1.0972 - val_accuracy: 0.3667\n",
      "Epoch 5/100\n",
      "120/120 [==============================] - 0s 1ms/sample - loss: 1.1012 - accuracy: 0.3000 - val_loss: 1.0978 - val_accuracy: 0.3667\n",
      "Epoch 6/100\n",
      "120/120 [==============================] - 0s 1ms/sample - loss: 1.1002 - accuracy: 0.2500 - val_loss: 1.0983 - val_accuracy: 0.2667\n",
      "Epoch 7/100\n",
      "120/120 [==============================] - 0s 1ms/sample - loss: 1.0988 - accuracy: 0.2667 - val_loss: 1.0988 - val_accuracy: 0.2667\n",
      "Epoch 8/100\n",
      "120/120 [==============================] - 0s 964us/sample - loss: 1.0987 - accuracy: 0.3833 - val_loss: 1.0986 - val_accuracy: 0.2667\n",
      "Epoch 9/100\n",
      "120/120 [==============================] - 0s 1ms/sample - loss: 1.0978 - accuracy: 0.3500 - val_loss: 1.0984 - val_accuracy: 0.2667\n",
      "Epoch 10/100\n",
      "120/120 [==============================] - 0s 898us/sample - loss: 1.0964 - accuracy: 0.3917 - val_loss: 1.0981 - val_accuracy: 0.2667\n",
      "Epoch 11/100\n",
      "120/120 [==============================] - 0s 889us/sample - loss: 1.0961 - accuracy: 0.3500 - val_loss: 1.0978 - val_accuracy: 0.2667\n",
      "Epoch 12/100\n",
      "120/120 [==============================] - 0s 898us/sample - loss: 1.0952 - accuracy: 0.3500 - val_loss: 1.0974 - val_accuracy: 0.2667\n",
      "Epoch 13/100\n",
      "120/120 [==============================] - 0s 906us/sample - loss: 1.0954 - accuracy: 0.3333 - val_loss: 1.0969 - val_accuracy: 0.2667\n",
      "Epoch 14/100\n",
      "120/120 [==============================] - 0s 964us/sample - loss: 1.0949 - accuracy: 0.3500 - val_loss: 1.0966 - val_accuracy: 0.2667\n",
      "Epoch 15/100\n",
      "120/120 [==============================] - 0s 898us/sample - loss: 1.0935 - accuracy: 0.3500 - val_loss: 1.0957 - val_accuracy: 0.2667\n",
      "Epoch 16/100\n",
      "120/120 [==============================] - 0s 964us/sample - loss: 1.0925 - accuracy: 0.3500 - val_loss: 1.0947 - val_accuracy: 0.2667\n",
      "Epoch 17/100\n",
      "120/120 [==============================] - 0s 1ms/sample - loss: 1.0921 - accuracy: 0.3500 - val_loss: 1.0941 - val_accuracy: 0.2667\n",
      "Epoch 18/100\n",
      "120/120 [==============================] - 0s 1ms/sample - loss: 1.0917 - accuracy: 0.3500 - val_loss: 1.0936 - val_accuracy: 0.2667\n",
      "Epoch 19/100\n",
      "120/120 [==============================] - 0s 898us/sample - loss: 1.0921 - accuracy: 0.3167 - val_loss: 1.0929 - val_accuracy: 0.2667\n",
      "Epoch 20/100\n",
      "120/120 [==============================] - 0s 898us/sample - loss: 1.0898 - accuracy: 0.3500 - val_loss: 1.0919 - val_accuracy: 0.2667\n",
      "Epoch 21/100\n",
      "120/120 [==============================] - 0s 889us/sample - loss: 1.0880 - accuracy: 0.3500 - val_loss: 1.0910 - val_accuracy: 0.2667\n",
      "Epoch 22/100\n",
      "120/120 [==============================] - 0s 889us/sample - loss: 1.0876 - accuracy: 0.3500 - val_loss: 1.0908 - val_accuracy: 0.2667\n",
      "Epoch 23/100\n",
      "120/120 [==============================] - 0s 898us/sample - loss: 1.0861 - accuracy: 0.3500 - val_loss: 1.0895 - val_accuracy: 0.2667\n",
      "Epoch 24/100\n",
      "120/120 [==============================] - 0s 956us/sample - loss: 1.0859 - accuracy: 0.3500 - val_loss: 1.0888 - val_accuracy: 0.2667\n",
      "Epoch 25/100\n",
      "120/120 [==============================] - 0s 906us/sample - loss: 1.0849 - accuracy: 0.3500 - val_loss: 1.0875 - val_accuracy: 0.2667\n",
      "Epoch 26/100\n",
      "120/120 [==============================] - 0s 1ms/sample - loss: 1.0840 - accuracy: 0.3500 - val_loss: 1.0864 - val_accuracy: 0.2667\n",
      "Epoch 27/100\n",
      "120/120 [==============================] - 0s 864us/sample - loss: 1.0827 - accuracy: 0.3500 - val_loss: 1.0855 - val_accuracy: 0.2667\n",
      "Epoch 28/100\n",
      "120/120 [==============================] - 0s 898us/sample - loss: 1.0815 - accuracy: 0.3083 - val_loss: 1.0856 - val_accuracy: 0.2667\n",
      "Epoch 29/100\n",
      "120/120 [==============================] - 0s 1ms/sample - loss: 1.0801 - accuracy: 0.3500 - val_loss: 1.0831 - val_accuracy: 0.2667\n",
      "Epoch 30/100\n",
      "120/120 [==============================] - 0s 1ms/sample - loss: 1.0791 - accuracy: 0.3083 - val_loss: 1.0827 - val_accuracy: 0.2667\n",
      "Epoch 31/100\n",
      "120/120 [==============================] - 0s 898us/sample - loss: 1.0766 - accuracy: 0.3417 - val_loss: 1.0804 - val_accuracy: 0.2667\n",
      "Epoch 32/100\n",
      "120/120 [==============================] - 0s 964us/sample - loss: 1.0774 - accuracy: 0.4750 - val_loss: 1.0799 - val_accuracy: 0.2667\n",
      "Epoch 33/100\n",
      "120/120 [==============================] - 0s 898us/sample - loss: 1.0733 - accuracy: 0.3500 - val_loss: 1.0772 - val_accuracy: 0.2667\n",
      "Epoch 34/100\n",
      "120/120 [==============================] - 0s 889us/sample - loss: 1.0728 - accuracy: 0.3250 - val_loss: 1.0752 - val_accuracy: 0.2667\n",
      "Epoch 35/100\n",
      "120/120 [==============================] - 0s 898us/sample - loss: 1.0705 - accuracy: 0.3417 - val_loss: 1.0736 - val_accuracy: 0.2667\n",
      "Epoch 36/100\n",
      "120/120 [==============================] - 0s 889us/sample - loss: 1.0684 - accuracy: 0.3500 - val_loss: 1.0695 - val_accuracy: 0.2667\n",
      "Epoch 37/100\n",
      "120/120 [==============================] - 0s 898us/sample - loss: 1.0680 - accuracy: 0.3583 - val_loss: 1.0679 - val_accuracy: 0.2667\n",
      "Epoch 38/100\n",
      "120/120 [==============================] - 0s 889us/sample - loss: 1.0635 - accuracy: 0.3333 - val_loss: 1.0633 - val_accuracy: 0.2667\n",
      "Epoch 39/100\n",
      "120/120 [==============================] - 0s 889us/sample - loss: 1.0614 - accuracy: 0.3667 - val_loss: 1.0592 - val_accuracy: 0.4667\n",
      "Epoch 40/100\n",
      "120/120 [==============================] - 0s 889us/sample - loss: 1.0581 - accuracy: 0.3583 - val_loss: 1.0550 - val_accuracy: 0.6333\n",
      "Epoch 41/100\n",
      "120/120 [==============================] - 0s 898us/sample - loss: 1.0560 - accuracy: 0.4833 - val_loss: 1.0523 - val_accuracy: 0.4667\n",
      "Epoch 42/100\n",
      "120/120 [==============================] - 0s 898us/sample - loss: 1.0527 - accuracy: 0.3667 - val_loss: 1.0449 - val_accuracy: 0.6333\n",
      "Epoch 43/100\n",
      "120/120 [==============================] - 0s 906us/sample - loss: 1.0463 - accuracy: 0.6000 - val_loss: 1.0473 - val_accuracy: 0.2667\n",
      "Epoch 44/100\n",
      "120/120 [==============================] - 0s 1ms/sample - loss: 1.0439 - accuracy: 0.4917 - val_loss: 1.0407 - val_accuracy: 0.2667\n",
      "Epoch 45/100\n",
      "120/120 [==============================] - 0s 898us/sample - loss: 1.0406 - accuracy: 0.4500 - val_loss: 1.0375 - val_accuracy: 0.2667\n",
      "Epoch 46/100\n",
      "120/120 [==============================] - 0s 889us/sample - loss: 1.0348 - accuracy: 0.5833 - val_loss: 1.0357 - val_accuracy: 0.2667\n",
      "Epoch 47/100\n",
      "120/120 [==============================] - 0s 898us/sample - loss: 1.0312 - accuracy: 0.3833 - val_loss: 1.0230 - val_accuracy: 0.6333\n",
      "Epoch 48/100\n",
      "120/120 [==============================] - 0s 889us/sample - loss: 1.0218 - accuracy: 0.6500 - val_loss: 1.0279 - val_accuracy: 0.2667\n",
      "Epoch 49/100\n",
      "120/120 [==============================] - 0s 889us/sample - loss: 1.0207 - accuracy: 0.5667 - val_loss: 1.0165 - val_accuracy: 0.4333\n",
      "Epoch 50/100\n",
      "120/120 [==============================] - 0s 898us/sample - loss: 1.0153 - accuracy: 0.5583 - val_loss: 1.0025 - val_accuracy: 0.6333\n",
      "Epoch 51/100\n",
      "120/120 [==============================] - 0s 898us/sample - loss: 1.0077 - accuracy: 0.5833 - val_loss: 0.9922 - val_accuracy: 0.7333\n",
      "Epoch 52/100\n",
      "120/120 [==============================] - 0s 898us/sample - loss: 0.9983 - accuracy: 0.7250 - val_loss: 0.9838 - val_accuracy: 0.8333\n",
      "Epoch 53/100\n",
      "120/120 [==============================] - 0s 1ms/sample - loss: 0.9951 - accuracy: 0.6833 - val_loss: 0.9815 - val_accuracy: 0.6333\n",
      "Epoch 54/100\n",
      "120/120 [==============================] - 0s 2ms/sample - loss: 0.9871 - accuracy: 0.5917 - val_loss: 0.9659 - val_accuracy: 0.9000\n",
      "Epoch 55/100\n",
      "120/120 [==============================] - 0s 1ms/sample - loss: 0.9772 - accuracy: 0.6833 - val_loss: 0.9635 - val_accuracy: 0.6333\n",
      "Epoch 56/100\n"
     ]
    },
    {
     "name": "stdout",
     "output_type": "stream",
     "text": [
      "120/120 [==============================] - 0s 889us/sample - loss: 0.9662 - accuracy: 0.6500 - val_loss: 0.9539 - val_accuracy: 0.9000\n",
      "Epoch 57/100\n",
      "120/120 [==============================] - 0s 889us/sample - loss: 0.9546 - accuracy: 0.6667 - val_loss: 0.9417 - val_accuracy: 0.8000\n",
      "Epoch 58/100\n",
      "120/120 [==============================] - 0s 898us/sample - loss: 0.9471 - accuracy: 0.7000 - val_loss: 0.9463 - val_accuracy: 0.6333\n",
      "Epoch 59/100\n",
      "120/120 [==============================] - 0s 889us/sample - loss: 0.9452 - accuracy: 0.5917 - val_loss: 0.9131 - val_accuracy: 0.9333\n",
      "Epoch 60/100\n",
      "120/120 [==============================] - 0s 972us/sample - loss: 0.9268 - accuracy: 0.7083 - val_loss: 0.9116 - val_accuracy: 0.6333\n",
      "Epoch 61/100\n",
      "120/120 [==============================] - 0s 873us/sample - loss: 0.9175 - accuracy: 0.6917 - val_loss: 0.8841 - val_accuracy: 0.8000\n",
      "Epoch 62/100\n",
      "120/120 [==============================] - 0s 898us/sample - loss: 0.9065 - accuracy: 0.6833 - val_loss: 0.8720 - val_accuracy: 0.8000\n",
      "Epoch 63/100\n",
      "120/120 [==============================] - 0s 898us/sample - loss: 0.8956 - accuracy: 0.7167 - val_loss: 0.8591 - val_accuracy: 0.8000\n",
      "Epoch 64/100\n",
      "120/120 [==============================] - 0s 898us/sample - loss: 0.8819 - accuracy: 0.7083 - val_loss: 0.8496 - val_accuracy: 0.9000\n",
      "Epoch 65/100\n",
      "120/120 [==============================] - 0s 898us/sample - loss: 0.8673 - accuracy: 0.7167 - val_loss: 0.8596 - val_accuracy: 0.6333\n",
      "Epoch 66/100\n",
      "120/120 [==============================] - 0s 898us/sample - loss: 0.8547 - accuracy: 0.7167 - val_loss: 0.8363 - val_accuracy: 0.6333\n",
      "Epoch 67/100\n",
      "120/120 [==============================] - 0s 898us/sample - loss: 0.8465 - accuracy: 0.7083 - val_loss: 0.8068 - val_accuracy: 0.9000\n",
      "Epoch 68/100\n",
      "120/120 [==============================] - 0s 898us/sample - loss: 0.8254 - accuracy: 0.7333 - val_loss: 0.7950 - val_accuracy: 0.8667\n",
      "Epoch 69/100\n",
      "120/120 [==============================] - 0s 889us/sample - loss: 0.8097 - accuracy: 0.7500 - val_loss: 0.7974 - val_accuracy: 0.6333\n",
      "Epoch 70/100\n",
      "120/120 [==============================] - 0s 1ms/sample - loss: 0.8042 - accuracy: 0.7250 - val_loss: 0.7613 - val_accuracy: 0.8333\n",
      "Epoch 71/100\n",
      "120/120 [==============================] - 0s 898us/sample - loss: 0.7904 - accuracy: 0.6833 - val_loss: 0.7576 - val_accuracy: 0.9667\n",
      "Epoch 72/100\n",
      "120/120 [==============================] - 0s 898us/sample - loss: 0.7710 - accuracy: 0.7750 - val_loss: 0.7505 - val_accuracy: 0.7000\n",
      "Epoch 73/100\n",
      "120/120 [==============================] - 0s 906us/sample - loss: 0.7575 - accuracy: 0.7250 - val_loss: 0.7201 - val_accuracy: 0.8667\n",
      "Epoch 74/100\n",
      "120/120 [==============================] - 0s 898us/sample - loss: 0.7482 - accuracy: 0.7667 - val_loss: 0.7252 - val_accuracy: 0.7000\n",
      "Epoch 75/100\n",
      "120/120 [==============================] - 0s 898us/sample - loss: 0.7346 - accuracy: 0.7417 - val_loss: 0.7150 - val_accuracy: 0.6333\n",
      "Epoch 76/100\n",
      "120/120 [==============================] - 0s 898us/sample - loss: 0.7201 - accuracy: 0.7833 - val_loss: 0.6844 - val_accuracy: 0.9667\n",
      "Epoch 77/100\n",
      "120/120 [==============================] - 0s 898us/sample - loss: 0.7042 - accuracy: 0.7917 - val_loss: 0.6580 - val_accuracy: 0.8000\n",
      "Epoch 78/100\n",
      "120/120 [==============================] - 0s 964us/sample - loss: 0.6973 - accuracy: 0.7667 - val_loss: 0.6545 - val_accuracy: 0.9000\n",
      "Epoch 79/100\n",
      "120/120 [==============================] - 0s 889us/sample - loss: 0.6823 - accuracy: 0.7417 - val_loss: 0.6390 - val_accuracy: 0.8667\n",
      "Epoch 80/100\n",
      "120/120 [==============================] - 0s 898us/sample - loss: 0.6630 - accuracy: 0.7833 - val_loss: 0.6802 - val_accuracy: 0.6333\n",
      "Epoch 81/100\n",
      "120/120 [==============================] - 0s 889us/sample - loss: 0.6551 - accuracy: 0.7417 - val_loss: 0.6073 - val_accuracy: 0.8000\n",
      "Epoch 82/100\n",
      "120/120 [==============================] - 0s 956us/sample - loss: 0.6368 - accuracy: 0.7583 - val_loss: 0.6557 - val_accuracy: 0.6333\n",
      "Epoch 83/100\n",
      "120/120 [==============================] - 0s 890us/sample - loss: 0.6388 - accuracy: 0.8000 - val_loss: 0.5935 - val_accuracy: 0.8667\n",
      "Epoch 84/100\n",
      "120/120 [==============================] - 0s 898us/sample - loss: 0.6272 - accuracy: 0.7833 - val_loss: 0.5891 - val_accuracy: 0.9333\n",
      "Epoch 85/100\n",
      "120/120 [==============================] - 0s 898us/sample - loss: 0.6142 - accuracy: 0.8833 - val_loss: 0.5801 - val_accuracy: 0.9667\n",
      "Epoch 86/100\n",
      "120/120 [==============================] - 0s 898us/sample - loss: 0.6091 - accuracy: 0.8583 - val_loss: 0.5771 - val_accuracy: 0.8333\n",
      "Epoch 87/100\n",
      "120/120 [==============================] - 0s 889us/sample - loss: 0.5965 - accuracy: 0.8583 - val_loss: 0.5591 - val_accuracy: 0.9667\n",
      "Epoch 88/100\n",
      "120/120 [==============================] - 0s 1ms/sample - loss: 0.5925 - accuracy: 0.8500 - val_loss: 0.5455 - val_accuracy: 0.8667\n",
      "Epoch 89/100\n",
      "120/120 [==============================] - 0s 889us/sample - loss: 0.5780 - accuracy: 0.8917 - val_loss: 0.5296 - val_accuracy: 0.8000\n",
      "Epoch 90/100\n",
      "120/120 [==============================] - 0s 898us/sample - loss: 0.5720 - accuracy: 0.8417 - val_loss: 0.5332 - val_accuracy: 1.0000\n",
      "Epoch 91/100\n",
      "120/120 [==============================] - 0s 889us/sample - loss: 0.5627 - accuracy: 0.8667 - val_loss: 0.5190 - val_accuracy: 0.8667\n",
      "Epoch 92/100\n",
      "120/120 [==============================] - 0s 972us/sample - loss: 0.5592 - accuracy: 0.8917 - val_loss: 0.5133 - val_accuracy: 0.9000\n",
      "Epoch 93/100\n",
      "120/120 [==============================] - 0s 889us/sample - loss: 0.5495 - accuracy: 0.8833 - val_loss: 0.5207 - val_accuracy: 0.8667\n",
      "Epoch 94/100\n",
      "120/120 [==============================] - 0s 898us/sample - loss: 0.5448 - accuracy: 0.8917 - val_loss: 0.5000 - val_accuracy: 0.9000\n",
      "Epoch 95/100\n",
      "120/120 [==============================] - 0s 898us/sample - loss: 0.5350 - accuracy: 0.8667 - val_loss: 0.5098 - val_accuracy: 0.8000\n",
      "Epoch 96/100\n",
      "120/120 [==============================] - 0s 898us/sample - loss: 0.5286 - accuracy: 0.8750 - val_loss: 0.4908 - val_accuracy: 1.0000\n",
      "Epoch 97/100\n",
      "120/120 [==============================] - 0s 1ms/sample - loss: 0.5199 - accuracy: 0.9000 - val_loss: 0.4813 - val_accuracy: 0.9333\n",
      "Epoch 98/100\n",
      "120/120 [==============================] - 0s 893us/sample - loss: 0.5151 - accuracy: 0.8667 - val_loss: 0.4903 - val_accuracy: 0.9333\n",
      "Epoch 99/100\n",
      "120/120 [==============================] - 0s 1ms/sample - loss: 0.5072 - accuracy: 0.9000 - val_loss: 0.4681 - val_accuracy: 0.9333\n",
      "Epoch 100/100\n",
      "120/120 [==============================] - 0s 889us/sample - loss: 0.5051 - accuracy: 0.8833 - val_loss: 0.4601 - val_accuracy: 0.8667\n"
     ]
    },
    {
     "data": {
      "text/plain": [
       "<tensorflow.python.keras.callbacks.History at 0x24c8f5e5908>"
      ]
     },
     "execution_count": 28,
     "metadata": {},
     "output_type": "execute_result"
    }
   ],
   "source": [
    "model_iris.fit(x_train, y_train, validation_data=(x_test, y_test), epochs=100, batch_size=4, callbacks=[tb_iris])\n"
   ]
  },
  {
   "cell_type": "code",
   "execution_count": 29,
   "metadata": {},
   "outputs": [],
   "source": [
    "predictions = model_iris.predict(x_test)"
   ]
  },
  {
   "cell_type": "code",
   "execution_count": 30,
   "metadata": {},
   "outputs": [
    {
     "name": "stdout",
     "output_type": "stream",
     "text": [
      "Prediction: [0 2 1 1 2 0 0 0 1 2 2 2 0 2 2 0 0 2 0 2 0 2 1 2 0 2 2 2 2 0]\n",
      "   Actuals: [0 2 1 1 2 0 0 0 1 1 2 1 0 2 2 0 0 2 0 2 0 2 1 1 0 1 2 2 2 0]\n"
     ]
    }
   ],
   "source": [
    "print(\"Prediction: {}\".format(tf.argmax(predictions, axis=1)))\n",
    "print(\"   Actuals: {}\".format(y_test))"
   ]
  },
  {
   "cell_type": "code",
   "execution_count": 31,
   "metadata": {},
   "outputs": [
    {
     "data": {
      "text/plain": [
       "array([[0.13443342, 0.02264321, 0.00464883],\n",
       "       [0.0030151 , 0.04819861, 0.07248813],\n",
       "       [0.00810096, 0.03895047, 0.03600475],\n",
       "       [0.01041317, 0.03786692, 0.03038147],\n",
       "       [0.00208852, 0.05021003, 0.09245989],\n",
       "       [0.13695186, 0.02220923, 0.00453934],\n",
       "       [0.14192152, 0.02194801, 0.00443169],\n",
       "       [0.17362714, 0.02056462, 0.00372097],\n",
       "       [0.02012289, 0.03374049, 0.01915371],\n",
       "       [0.00628668, 0.04103312, 0.04313201],\n",
       "       [0.00367138, 0.04674765, 0.06324455],\n",
       "       [0.00553951, 0.04195017, 0.04700005],\n",
       "       [0.13093182, 0.02248761, 0.00472924],\n",
       "       [0.00494677, 0.04380727, 0.05176085],\n",
       "       [0.0018602 , 0.05213472, 0.09946647],\n",
       "       [0.15082723, 0.02120325, 0.00420272],\n",
       "       [0.1638115 , 0.02137187, 0.00394431],\n",
       "       [0.00252327, 0.04938844, 0.08141911],\n",
       "       [0.17768472, 0.02072939, 0.0036805 ],\n",
       "       [0.00359762, 0.04716611, 0.06468397],\n",
       "       [0.16043773, 0.02111962, 0.00401258],\n",
       "       [0.00370607, 0.04611313, 0.06296417],\n",
       "       [0.01543847, 0.03577381, 0.0231933 ],\n",
       "       [0.00527337, 0.04316407, 0.04965162],\n",
       "       [0.17310366, 0.02062285, 0.00373769],\n",
       "       [0.00614524, 0.04207528, 0.04366767],\n",
       "       [0.00231764, 0.05008769, 0.08560526],\n",
       "       [0.00359762, 0.04716611, 0.06468397],\n",
       "       [0.00338632, 0.04684129, 0.06693628],\n",
       "       [0.19918886, 0.01986805, 0.00333236]], dtype=float32)"
      ]
     },
     "execution_count": 31,
     "metadata": {},
     "output_type": "execute_result"
    }
   ],
   "source": [
    "predictions"
   ]
  },
  {
   "cell_type": "code",
   "execution_count": 32,
   "metadata": {},
   "outputs": [],
   "source": [
    "test_accuracy = tf.keras.metrics.Accuracy()\n"
   ]
  },
  {
   "cell_type": "code",
   "execution_count": 33,
   "metadata": {},
   "outputs": [
    {
     "name": "stdout",
     "output_type": "stream",
     "text": [
      "Test set accuracy: 86.667%\n"
     ]
    }
   ],
   "source": [
    "test_accuracy(tf.argmax(predictions, axis=1), y_test)\n",
    "print(\"Test set accuracy: {:.3%}\".format(test_accuracy.result()))"
   ]
  },
  {
   "cell_type": "markdown",
   "metadata": {},
   "source": [
    "## Case Study 12"
   ]
  },
  {
   "cell_type": "code",
   "execution_count": 125,
   "metadata": {},
   "outputs": [],
   "source": [
    "df = pd.read_csv('HIGGS.csv', header=None)"
   ]
  },
  {
   "cell_type": "code",
   "execution_count": 126,
   "metadata": {},
   "outputs": [
    {
     "name": "stdout",
     "output_type": "stream",
     "text": [
      "    Shape of raw data is 11,000,000 x 29\n",
      "\n"
     ]
    }
   ],
   "source": [
    "# Verify size is as expected\n",
    "print(\"{:>25}{:>10,} x {:,}\\n\".format(\"Shape of raw data is \", df.shape[0], df.shape[1]))"
   ]
  },
  {
   "cell_type": "code",
   "execution_count": 208,
   "metadata": {},
   "outputs": [
    {
     "data": {
      "text/html": [
       "<div>\n",
       "<style scoped>\n",
       "    .dataframe tbody tr th:only-of-type {\n",
       "        vertical-align: middle;\n",
       "    }\n",
       "\n",
       "    .dataframe tbody tr th {\n",
       "        vertical-align: top;\n",
       "    }\n",
       "\n",
       "    .dataframe thead th {\n",
       "        text-align: right;\n",
       "    }\n",
       "</style>\n",
       "<table border=\"1\" class=\"dataframe\">\n",
       "  <thead>\n",
       "    <tr style=\"text-align: right;\">\n",
       "      <th></th>\n",
       "      <th>0</th>\n",
       "      <th>1</th>\n",
       "      <th>2</th>\n",
       "      <th>3</th>\n",
       "      <th>4</th>\n",
       "      <th>5</th>\n",
       "      <th>6</th>\n",
       "      <th>7</th>\n",
       "      <th>8</th>\n",
       "      <th>9</th>\n",
       "      <th>...</th>\n",
       "      <th>19</th>\n",
       "      <th>20</th>\n",
       "      <th>21</th>\n",
       "      <th>22</th>\n",
       "      <th>23</th>\n",
       "      <th>24</th>\n",
       "      <th>25</th>\n",
       "      <th>26</th>\n",
       "      <th>27</th>\n",
       "      <th>28</th>\n",
       "    </tr>\n",
       "  </thead>\n",
       "  <tbody>\n",
       "    <tr>\n",
       "      <th>0</th>\n",
       "      <td>1.0</td>\n",
       "      <td>0.869293</td>\n",
       "      <td>-0.635082</td>\n",
       "      <td>0.225690</td>\n",
       "      <td>0.327470</td>\n",
       "      <td>-0.689993</td>\n",
       "      <td>0.754202</td>\n",
       "      <td>-0.248573</td>\n",
       "      <td>-1.092064</td>\n",
       "      <td>0.000000</td>\n",
       "      <td>...</td>\n",
       "      <td>-0.010455</td>\n",
       "      <td>-0.045767</td>\n",
       "      <td>3.101961</td>\n",
       "      <td>1.353760</td>\n",
       "      <td>0.979563</td>\n",
       "      <td>0.978076</td>\n",
       "      <td>0.920005</td>\n",
       "      <td>0.721657</td>\n",
       "      <td>0.988751</td>\n",
       "      <td>0.876678</td>\n",
       "    </tr>\n",
       "    <tr>\n",
       "      <th>1</th>\n",
       "      <td>1.0</td>\n",
       "      <td>0.907542</td>\n",
       "      <td>0.329147</td>\n",
       "      <td>0.359412</td>\n",
       "      <td>1.497970</td>\n",
       "      <td>-0.313010</td>\n",
       "      <td>1.095531</td>\n",
       "      <td>-0.557525</td>\n",
       "      <td>-1.588230</td>\n",
       "      <td>2.173076</td>\n",
       "      <td>...</td>\n",
       "      <td>-1.138930</td>\n",
       "      <td>-0.000819</td>\n",
       "      <td>0.000000</td>\n",
       "      <td>0.302220</td>\n",
       "      <td>0.833048</td>\n",
       "      <td>0.985700</td>\n",
       "      <td>0.978098</td>\n",
       "      <td>0.779732</td>\n",
       "      <td>0.992356</td>\n",
       "      <td>0.798343</td>\n",
       "    </tr>\n",
       "    <tr>\n",
       "      <th>2</th>\n",
       "      <td>1.0</td>\n",
       "      <td>0.798835</td>\n",
       "      <td>1.470639</td>\n",
       "      <td>-1.635975</td>\n",
       "      <td>0.453773</td>\n",
       "      <td>0.425629</td>\n",
       "      <td>1.104875</td>\n",
       "      <td>1.282322</td>\n",
       "      <td>1.381664</td>\n",
       "      <td>0.000000</td>\n",
       "      <td>...</td>\n",
       "      <td>1.128848</td>\n",
       "      <td>0.900461</td>\n",
       "      <td>0.000000</td>\n",
       "      <td>0.909753</td>\n",
       "      <td>1.108330</td>\n",
       "      <td>0.985692</td>\n",
       "      <td>0.951331</td>\n",
       "      <td>0.803252</td>\n",
       "      <td>0.865924</td>\n",
       "      <td>0.780118</td>\n",
       "    </tr>\n",
       "    <tr>\n",
       "      <th>3</th>\n",
       "      <td>0.0</td>\n",
       "      <td>1.344385</td>\n",
       "      <td>-0.876626</td>\n",
       "      <td>0.935913</td>\n",
       "      <td>1.992050</td>\n",
       "      <td>0.882454</td>\n",
       "      <td>1.786066</td>\n",
       "      <td>-1.646778</td>\n",
       "      <td>-0.942383</td>\n",
       "      <td>0.000000</td>\n",
       "      <td>...</td>\n",
       "      <td>-0.678379</td>\n",
       "      <td>-1.360356</td>\n",
       "      <td>0.000000</td>\n",
       "      <td>0.946652</td>\n",
       "      <td>1.028704</td>\n",
       "      <td>0.998656</td>\n",
       "      <td>0.728281</td>\n",
       "      <td>0.869200</td>\n",
       "      <td>1.026736</td>\n",
       "      <td>0.957904</td>\n",
       "    </tr>\n",
       "    <tr>\n",
       "      <th>4</th>\n",
       "      <td>1.0</td>\n",
       "      <td>1.105009</td>\n",
       "      <td>0.321356</td>\n",
       "      <td>1.522401</td>\n",
       "      <td>0.882808</td>\n",
       "      <td>-1.205349</td>\n",
       "      <td>0.681466</td>\n",
       "      <td>-1.070464</td>\n",
       "      <td>-0.921871</td>\n",
       "      <td>0.000000</td>\n",
       "      <td>...</td>\n",
       "      <td>-0.373566</td>\n",
       "      <td>0.113041</td>\n",
       "      <td>0.000000</td>\n",
       "      <td>0.755856</td>\n",
       "      <td>1.361057</td>\n",
       "      <td>0.986610</td>\n",
       "      <td>0.838085</td>\n",
       "      <td>1.133295</td>\n",
       "      <td>0.872245</td>\n",
       "      <td>0.808487</td>\n",
       "    </tr>\n",
       "  </tbody>\n",
       "</table>\n",
       "<p>5 rows × 29 columns</p>\n",
       "</div>"
      ],
      "text/plain": [
       "    0         1         2         3         4         5         6         7   \\\n",
       "0  1.0  0.869293 -0.635082  0.225690  0.327470 -0.689993  0.754202 -0.248573   \n",
       "1  1.0  0.907542  0.329147  0.359412  1.497970 -0.313010  1.095531 -0.557525   \n",
       "2  1.0  0.798835  1.470639 -1.635975  0.453773  0.425629  1.104875  1.282322   \n",
       "3  0.0  1.344385 -0.876626  0.935913  1.992050  0.882454  1.786066 -1.646778   \n",
       "4  1.0  1.105009  0.321356  1.522401  0.882808 -1.205349  0.681466 -1.070464   \n",
       "\n",
       "         8         9   ...        19        20        21        22        23  \\\n",
       "0 -1.092064  0.000000  ... -0.010455 -0.045767  3.101961  1.353760  0.979563   \n",
       "1 -1.588230  2.173076  ... -1.138930 -0.000819  0.000000  0.302220  0.833048   \n",
       "2  1.381664  0.000000  ...  1.128848  0.900461  0.000000  0.909753  1.108330   \n",
       "3 -0.942383  0.000000  ... -0.678379 -1.360356  0.000000  0.946652  1.028704   \n",
       "4 -0.921871  0.000000  ... -0.373566  0.113041  0.000000  0.755856  1.361057   \n",
       "\n",
       "         24        25        26        27        28  \n",
       "0  0.978076  0.920005  0.721657  0.988751  0.876678  \n",
       "1  0.985700  0.978098  0.779732  0.992356  0.798343  \n",
       "2  0.985692  0.951331  0.803252  0.865924  0.780118  \n",
       "3  0.998656  0.728281  0.869200  1.026736  0.957904  \n",
       "4  0.986610  0.838085  1.133295  0.872245  0.808487  \n",
       "\n",
       "[5 rows x 29 columns]"
      ]
     },
     "execution_count": 208,
     "metadata": {},
     "output_type": "execute_result"
    }
   ],
   "source": [
    "df.head()"
   ]
  },
  {
   "cell_type": "code",
   "execution_count": 209,
   "metadata": {},
   "outputs": [
    {
     "data": {
      "text/plain": [
       "count    1.100000e+07\n",
       "mean     5.299203e-01\n",
       "std      4.991040e-01\n",
       "min      0.000000e+00\n",
       "25%      0.000000e+00\n",
       "50%      1.000000e+00\n",
       "75%      1.000000e+00\n",
       "max      1.000000e+00\n",
       "Name: 0, dtype: float64"
      ]
     },
     "execution_count": 209,
     "metadata": {},
     "output_type": "execute_result"
    }
   ],
   "source": [
    "df[0].describe()"
   ]
  },
  {
   "cell_type": "code",
   "execution_count": 210,
   "metadata": {},
   "outputs": [],
   "source": [
    "x1 = df.drop([0], axis = 1)"
   ]
  },
  {
   "cell_type": "code",
   "execution_count": 211,
   "metadata": {},
   "outputs": [
    {
     "data": {
      "text/html": [
       "<div>\n",
       "<style scoped>\n",
       "    .dataframe tbody tr th:only-of-type {\n",
       "        vertical-align: middle;\n",
       "    }\n",
       "\n",
       "    .dataframe tbody tr th {\n",
       "        vertical-align: top;\n",
       "    }\n",
       "\n",
       "    .dataframe thead th {\n",
       "        text-align: right;\n",
       "    }\n",
       "</style>\n",
       "<table border=\"1\" class=\"dataframe\">\n",
       "  <thead>\n",
       "    <tr style=\"text-align: right;\">\n",
       "      <th></th>\n",
       "      <th>1</th>\n",
       "      <th>2</th>\n",
       "      <th>3</th>\n",
       "      <th>4</th>\n",
       "      <th>5</th>\n",
       "      <th>6</th>\n",
       "      <th>7</th>\n",
       "      <th>8</th>\n",
       "      <th>9</th>\n",
       "      <th>10</th>\n",
       "      <th>...</th>\n",
       "      <th>19</th>\n",
       "      <th>20</th>\n",
       "      <th>21</th>\n",
       "      <th>22</th>\n",
       "      <th>23</th>\n",
       "      <th>24</th>\n",
       "      <th>25</th>\n",
       "      <th>26</th>\n",
       "      <th>27</th>\n",
       "      <th>28</th>\n",
       "    </tr>\n",
       "  </thead>\n",
       "  <tbody>\n",
       "    <tr>\n",
       "      <th>0</th>\n",
       "      <td>0.869293</td>\n",
       "      <td>-0.635082</td>\n",
       "      <td>0.225690</td>\n",
       "      <td>0.327470</td>\n",
       "      <td>-0.689993</td>\n",
       "      <td>0.754202</td>\n",
       "      <td>-0.248573</td>\n",
       "      <td>-1.092064</td>\n",
       "      <td>0.000000</td>\n",
       "      <td>1.374992</td>\n",
       "      <td>...</td>\n",
       "      <td>-0.010455</td>\n",
       "      <td>-0.045767</td>\n",
       "      <td>3.101961</td>\n",
       "      <td>1.353760</td>\n",
       "      <td>0.979563</td>\n",
       "      <td>0.978076</td>\n",
       "      <td>0.920005</td>\n",
       "      <td>0.721657</td>\n",
       "      <td>0.988751</td>\n",
       "      <td>0.876678</td>\n",
       "    </tr>\n",
       "    <tr>\n",
       "      <th>1</th>\n",
       "      <td>0.907542</td>\n",
       "      <td>0.329147</td>\n",
       "      <td>0.359412</td>\n",
       "      <td>1.497970</td>\n",
       "      <td>-0.313010</td>\n",
       "      <td>1.095531</td>\n",
       "      <td>-0.557525</td>\n",
       "      <td>-1.588230</td>\n",
       "      <td>2.173076</td>\n",
       "      <td>0.812581</td>\n",
       "      <td>...</td>\n",
       "      <td>-1.138930</td>\n",
       "      <td>-0.000819</td>\n",
       "      <td>0.000000</td>\n",
       "      <td>0.302220</td>\n",
       "      <td>0.833048</td>\n",
       "      <td>0.985700</td>\n",
       "      <td>0.978098</td>\n",
       "      <td>0.779732</td>\n",
       "      <td>0.992356</td>\n",
       "      <td>0.798343</td>\n",
       "    </tr>\n",
       "    <tr>\n",
       "      <th>2</th>\n",
       "      <td>0.798835</td>\n",
       "      <td>1.470639</td>\n",
       "      <td>-1.635975</td>\n",
       "      <td>0.453773</td>\n",
       "      <td>0.425629</td>\n",
       "      <td>1.104875</td>\n",
       "      <td>1.282322</td>\n",
       "      <td>1.381664</td>\n",
       "      <td>0.000000</td>\n",
       "      <td>0.851737</td>\n",
       "      <td>...</td>\n",
       "      <td>1.128848</td>\n",
       "      <td>0.900461</td>\n",
       "      <td>0.000000</td>\n",
       "      <td>0.909753</td>\n",
       "      <td>1.108330</td>\n",
       "      <td>0.985692</td>\n",
       "      <td>0.951331</td>\n",
       "      <td>0.803252</td>\n",
       "      <td>0.865924</td>\n",
       "      <td>0.780118</td>\n",
       "    </tr>\n",
       "    <tr>\n",
       "      <th>3</th>\n",
       "      <td>1.344385</td>\n",
       "      <td>-0.876626</td>\n",
       "      <td>0.935913</td>\n",
       "      <td>1.992050</td>\n",
       "      <td>0.882454</td>\n",
       "      <td>1.786066</td>\n",
       "      <td>-1.646778</td>\n",
       "      <td>-0.942383</td>\n",
       "      <td>0.000000</td>\n",
       "      <td>2.423265</td>\n",
       "      <td>...</td>\n",
       "      <td>-0.678379</td>\n",
       "      <td>-1.360356</td>\n",
       "      <td>0.000000</td>\n",
       "      <td>0.946652</td>\n",
       "      <td>1.028704</td>\n",
       "      <td>0.998656</td>\n",
       "      <td>0.728281</td>\n",
       "      <td>0.869200</td>\n",
       "      <td>1.026736</td>\n",
       "      <td>0.957904</td>\n",
       "    </tr>\n",
       "    <tr>\n",
       "      <th>4</th>\n",
       "      <td>1.105009</td>\n",
       "      <td>0.321356</td>\n",
       "      <td>1.522401</td>\n",
       "      <td>0.882808</td>\n",
       "      <td>-1.205349</td>\n",
       "      <td>0.681466</td>\n",
       "      <td>-1.070464</td>\n",
       "      <td>-0.921871</td>\n",
       "      <td>0.000000</td>\n",
       "      <td>0.800872</td>\n",
       "      <td>...</td>\n",
       "      <td>-0.373566</td>\n",
       "      <td>0.113041</td>\n",
       "      <td>0.000000</td>\n",
       "      <td>0.755856</td>\n",
       "      <td>1.361057</td>\n",
       "      <td>0.986610</td>\n",
       "      <td>0.838085</td>\n",
       "      <td>1.133295</td>\n",
       "      <td>0.872245</td>\n",
       "      <td>0.808487</td>\n",
       "    </tr>\n",
       "  </tbody>\n",
       "</table>\n",
       "<p>5 rows × 28 columns</p>\n",
       "</div>"
      ],
      "text/plain": [
       "         1         2         3         4         5         6         7   \\\n",
       "0  0.869293 -0.635082  0.225690  0.327470 -0.689993  0.754202 -0.248573   \n",
       "1  0.907542  0.329147  0.359412  1.497970 -0.313010  1.095531 -0.557525   \n",
       "2  0.798835  1.470639 -1.635975  0.453773  0.425629  1.104875  1.282322   \n",
       "3  1.344385 -0.876626  0.935913  1.992050  0.882454  1.786066 -1.646778   \n",
       "4  1.105009  0.321356  1.522401  0.882808 -1.205349  0.681466 -1.070464   \n",
       "\n",
       "         8         9         10  ...        19        20        21        22  \\\n",
       "0 -1.092064  0.000000  1.374992  ... -0.010455 -0.045767  3.101961  1.353760   \n",
       "1 -1.588230  2.173076  0.812581  ... -1.138930 -0.000819  0.000000  0.302220   \n",
       "2  1.381664  0.000000  0.851737  ...  1.128848  0.900461  0.000000  0.909753   \n",
       "3 -0.942383  0.000000  2.423265  ... -0.678379 -1.360356  0.000000  0.946652   \n",
       "4 -0.921871  0.000000  0.800872  ... -0.373566  0.113041  0.000000  0.755856   \n",
       "\n",
       "         23        24        25        26        27        28  \n",
       "0  0.979563  0.978076  0.920005  0.721657  0.988751  0.876678  \n",
       "1  0.833048  0.985700  0.978098  0.779732  0.992356  0.798343  \n",
       "2  1.108330  0.985692  0.951331  0.803252  0.865924  0.780118  \n",
       "3  1.028704  0.998656  0.728281  0.869200  1.026736  0.957904  \n",
       "4  1.361057  0.986610  0.838085  1.133295  0.872245  0.808487  \n",
       "\n",
       "[5 rows x 28 columns]"
      ]
     },
     "execution_count": 211,
     "metadata": {},
     "output_type": "execute_result"
    }
   ],
   "source": [
    "x1.head()"
   ]
  },
  {
   "cell_type": "code",
   "execution_count": 212,
   "metadata": {},
   "outputs": [],
   "source": [
    "y = df[0]"
   ]
  },
  {
   "cell_type": "code",
   "execution_count": 213,
   "metadata": {},
   "outputs": [],
   "source": [
    "y = y.to_numpy()"
   ]
  },
  {
   "cell_type": "code",
   "execution_count": 214,
   "metadata": {},
   "outputs": [
    {
     "data": {
      "text/plain": [
       "array([1., 1., 0., 1., 0., 1., 1., 1., 1., 1., 0., 1., 1., 1., 0., 1., 0.,\n",
       "       0., 1.])"
      ]
     },
     "execution_count": 214,
     "metadata": {},
     "output_type": "execute_result"
    }
   ],
   "source": [
    "y[1:20]"
   ]
  },
  {
   "cell_type": "code",
   "execution_count": 215,
   "metadata": {},
   "outputs": [],
   "source": [
    "from sklearn.preprocessing import MinMaxScaler\n",
    "\n",
    "scaler = MinMaxScaler(feature_range=(0,1))\n",
    "scaled_train = scaler.fit_transform(x1)\n",
    "\n",
    "# Print out the adjustment that the scaler applied to the lepton pT column of data\n",
    "#print(\"Note: median values were scaled by multiplying by {:.10f} and adding {:.6f}\".format(scaler.scale_[0],scaler.min_[0]))\n",
    "#multiplied_by = scaler.scale_[0]\n",
    "#added = scaler.min_[0]\n",
    "\n",
    "scaled_train_df = pd.DataFrame(scaled_train, columns = x1.columns.values)"
   ]
  },
  {
   "cell_type": "code",
   "execution_count": 216,
   "metadata": {},
   "outputs": [],
   "source": [
    "import matplotlib.pyplot as plt\n",
    "%matplotlib inline"
   ]
  },
  {
   "cell_type": "code",
   "execution_count": 217,
   "metadata": {},
   "outputs": [
    {
     "data": {
      "image/png": "[encoded data removed]",
      "text/plain": [
       "<Figure size 432x288 with 1 Axes>"
      ]
     },
     "metadata": {
      "needs_background": "light"
     },
     "output_type": "display_data"
    },
    {
     "data": {
      "image/png": "[encoded data removed]",
      "text/plain": [
       "<Figure size 432x288 with 1 Axes>"
      ]
     },
     "metadata": {
      "needs_background": "light"
     },
     "output_type": "display_data"
    },
    {
     "data": {
      "image/png": "[encoded data removed]",
      "text/plain": [
       "<Figure size 432x288 with 1 Axes>"
      ]
     },
     "metadata": {
      "needs_background": "light"
     },
     "output_type": "display_data"
    },
    {
     "data": {
      "image/png": "[encoded data removed]",
      "text/plain": [
       "<Figure size 432x288 with 1 Axes>"
      ]
     },
     "metadata": {
      "needs_background": "light"
     },
     "output_type": "display_data"
    },
    {
     "data": {
      "image/png": "[encoded data removed]",
      "text/plain": [
       "<Figure size 432x288 with 1 Axes>"
      ]
     },
     "metadata": {
      "needs_background": "light"
     },
     "output_type": "display_data"
    },
    {
     "data": {
      "image/png": "[encoded data removed]",
      "text/plain": [
       "<Figure size 432x288 with 1 Axes>"
      ]
     },
     "metadata": {
      "needs_background": "light"
     },
     "output_type": "display_data"
    },
    {
     "data": {
      "image/png": "[encoded data removed]",
      "text/plain": [
       "<Figure size 432x288 with 1 Axes>"
      ]
     },
     "metadata": {
      "needs_background": "light"
     },
     "output_type": "display_data"
    },
    {
     "data": {
      "image/png": "[encoded data removed]",
      "text/plain": [
       "<Figure size 432x288 with 1 Axes>"
      ]
     },
     "metadata": {
      "needs_background": "light"
     },
     "output_type": "display_data"
    },
    {
     "data": {
      "image/png": "[encoded data removed]",
      "text/plain": [
       "<Figure size 432x288 with 1 Axes>"
      ]
     },
     "metadata": {
      "needs_background": "light"
     },
     "output_type": "display_data"
    },
    {
     "data": {
      "image/png": "[encoded data removed]",
      "text/plain": [
       "<Figure size 432x288 with 1 Axes>"
      ]
     },
     "metadata": {
      "needs_background": "light"
     },
     "output_type": "display_data"
    },
    {
     "data": {
      "image/png": "[encoded data removed]",
      "text/plain": [
       "<Figure size 432x288 with 1 Axes>"
      ]
     },
     "metadata": {
      "needs_background": "light"
     },
     "output_type": "display_data"
    },
    {
     "data": {
      "image/png": "[encoded data removed]",
      "text/plain": [
       "<Figure size 432x288 with 1 Axes>"
      ]
     },
     "metadata": {
      "needs_background": "light"
     },
     "output_type": "display_data"
    },
    {
     "data": {
      "image/png": "[encoded data removed]",
      "text/plain": [
       "<Figure size 432x288 with 1 Axes>"
      ]
     },
     "metadata": {
      "needs_background": "light"
     },
     "output_type": "display_data"
    },
    {
     "data": {
      "image/png": "[encoded data removed]",
      "text/plain": [
       "<Figure size 432x288 with 1 Axes>"
      ]
     },
     "metadata": {
      "needs_background": "light"
     },
     "output_type": "display_data"
    },
    {
     "data": {
      "image/png": "[encoded data removed]",
      "text/plain": [
       "<Figure size 432x288 with 1 Axes>"
      ]
     },
     "metadata": {
      "needs_background": "light"
     },
     "output_type": "display_data"
    },
    {
     "data": {
      "image/png": "[encoded data removed]",
      "text/plain": [
       "<Figure size 432x288 with 1 Axes>"
      ]
     },
     "metadata": {
      "needs_background": "light"
     },
     "output_type": "display_data"
    },
    {
     "data": {
      "image/png": "[encoded data removed]",
      "text/plain": [
       "<Figure size 432x288 with 1 Axes>"
      ]
     },
     "metadata": {
      "needs_background": "light"
     },
     "output_type": "display_data"
    },
    {
     "data": {
      "image/png": "[encoded data removed]",
      "text/plain": [
       "<Figure size 432x288 with 1 Axes>"
      ]
     },
     "metadata": {
      "needs_background": "light"
     },
     "output_type": "display_data"
    },
    {
     "data": {
      "image/png": "[encoded data removed]",
      "text/plain": [
       "<Figure size 432x288 with 1 Axes>"
      ]
     },
     "metadata": {
      "needs_background": "light"
     },
     "output_type": "display_data"
    },
    {
     "data": {
      "image/png": "[encoded data removed]",
      "text/plain": [
       "<Figure size 432x288 with 1 Axes>"
      ]
     },
     "metadata": {
      "needs_background": "light"
     },
     "output_type": "display_data"
    },
    {
     "data": {
      "image/png": "[encoded data removed]",
      "text/plain": [
       "<Figure size 432x288 with 1 Axes>"
      ]
     },
     "metadata": {
      "needs_background": "light"
     },
     "output_type": "display_data"
    },
    {
     "data": {
      "image/png": "[encoded data removed]",
      "text/plain": [
       "<Figure size 432x288 with 1 Axes>"
      ]
     },
     "metadata": {
      "needs_background": "light"
     },
     "output_type": "display_data"
    },
    {
     "data": {
      "image/png": "[encoded data removed]",
      "text/plain": [
       "<Figure size 432x288 with 1 Axes>"
      ]
     },
     "metadata": {
      "needs_background": "light"
     },
     "output_type": "display_data"
    },
    {
     "data": {
      "image/png": "[encoded data removed]",
      "text/plain": [
       "<Figure size 432x288 with 1 Axes>"
      ]
     },
     "metadata": {
      "needs_background": "light"
     },
     "output_type": "display_data"
    },
    {
     "data": {
      "image/png": "[encoded data removed]",
      "text/plain": [
       "<Figure size 432x288 with 1 Axes>"
      ]
     },
     "metadata": {
      "needs_background": "light"
     },
     "output_type": "display_data"
    },
    {
     "data": {
      "image/png": "[encoded data removed]",
      "text/plain": [
       "<Figure size 432x288 with 1 Axes>"
      ]
     },
     "metadata": {
      "needs_background": "light"
     },
     "output_type": "display_data"
    },
    {
     "data": {
      "image/png": "[encoded data removed]",
      "text/plain": [
       "<Figure size 432x288 with 1 Axes>"
      ]
     },
     "metadata": {
      "needs_background": "light"
     },
     "output_type": "display_data"
    },
    {
     "data": {
      "image/png": "[encoded data removed]",
      "text/plain": [
       "<Figure size 432x288 with 1 Axes>"
      ]
     },
     "metadata": {
      "needs_background": "light"
     },
     "output_type": "display_data"
    }
   ],
   "source": [
    "for i in scaled_train_df:\n",
    "    scaled_train_df[i].hist()\n",
    "    plt.show()"
   ]
  },
  {
   "cell_type": "code",
   "execution_count": 218,
   "metadata": {},
   "outputs": [],
   "source": [
    "from keras.applications import Xception\n",
    "from keras.utils import multi_gpu_model"
   ]
  },
  {
   "cell_type": "code",
   "execution_count": 267,
   "metadata": {},
   "outputs": [],
   "source": [
    "\n",
    "\n",
    "mirrored_strategy = tf.distribute.MirroredStrategy(devices=[\"/gpu:0\", \"/gpu:1\"],\n",
    "                                          cross_device_ops=tf.distribute.HierarchicalCopyAllReduce())"
   ]
  },
  {
   "cell_type": "code",
   "execution_count": 281,
   "metadata": {},
   "outputs": [],
   "source": [
    "with mirrored_strategy.scope():\n",
    "    model_higgs = tf.keras.Sequential()\n",
    "    model_higgs.add(layers.Dense(10, activation = 'tanh'))\n",
    "    model_higgs.add(layers.Dense(10, activation = 'tanh'))\n",
    "    model_higgs.add(layers.Dense(10, activation = 'tanh'))\n",
    "    #model_higgs.add(layers.Dense(10, activation = 'tanh'))\n",
    "    #model_higgs.add(layers.Dense(10, activation = 'tanh'))\n",
    "    model_higgs.add(layers.Dense(2, activation = 'tanh'))\n",
    "    \n",
    "    model_higgs.compile(optimizer=tf.optimizers.SGD(learning_rate = 0.05),\n",
    "             loss=tf.keras.losses.SparseCategoricalCrossentropy(),\n",
    "             metrics=['accuracy'])\n",
    "    \n",
    "    log_dir = 'higgs_logs'\n",
    "    tb_higgs = TensorBoard(log_dir=log_dir, histogram_freq=1)"
   ]
  },
  {
   "cell_type": "markdown",
   "metadata": {},
   "source": [
    "from sklearn.tree import export_graphviz\n",
    "\n",
    "import keras\n",
    "import pydotplus\n",
    "from keras.utils.vis_utils import model_to_dot\n",
    "keras.utils.vis_utils.pydot = pydot\n",
    "\n",
    "\n",
    "keras.utils.plot_model(model_higgs, 'model_higgs.png')"
   ]
  },
  {
   "cell_type": "code",
   "execution_count": 282,
   "metadata": {},
   "outputs": [
    {
     "data": {
      "text/plain": [
       "(11000000, 28)"
      ]
     },
     "execution_count": 282,
     "metadata": {},
     "output_type": "execute_result"
    }
   ],
   "source": [
    "x1.shape"
   ]
  },
  {
   "cell_type": "code",
   "execution_count": 283,
   "metadata": {},
   "outputs": [],
   "source": [
    "x_train, x_test, y_train, y_test = train_test_split(x1, y, test_size=0.20, random_state=100)"
   ]
  },
  {
   "cell_type": "code",
   "execution_count": 284,
   "metadata": {},
   "outputs": [
    {
     "name": "stdout",
     "output_type": "stream",
     "text": [
      "Train on 8800000 samples, validate on 2200000 samples\n",
      "Epoch 1/10\n",
      "8800000/8800000 [==============================] - 275s 31us/sample - loss: 0.6932 - accuracy: 0.5294 - val_loss: 0.6931 - val_accuracy: 0.5298\n",
      "Epoch 2/10\n",
      "8800000/8800000 [==============================] - 258s 29us/sample - loss: 0.6931 - accuracy: 0.5293 - val_loss: 0.6931 - val_accuracy: 0.5296\n",
      "Epoch 3/10\n",
      "8800000/8800000 [==============================] - 258s 29us/sample - loss: 0.6931 - accuracy: 0.5292 - val_loss: 0.6931 - val_accuracy: 0.5296\n",
      "Epoch 4/10\n",
      "8800000/8800000 [==============================] - 260s 30us/sample - loss: 0.6931 - accuracy: 0.5292 - val_loss: 0.6931 - val_accuracy: 0.5296\n",
      "Epoch 5/10\n",
      "8800000/8800000 [==============================] - 256s 29us/sample - loss: 0.6931 - accuracy: 0.5292 - val_loss: 0.6931 - val_accuracy: 0.5296\n",
      "Epoch 6/10\n",
      "8800000/8800000 [==============================] - 255s 29us/sample - loss: 0.6931 - accuracy: 0.5292 - val_loss: 0.6931 - val_accuracy: 0.5296\n",
      "Epoch 7/10\n",
      "8800000/8800000 [==============================] - 255s 29us/sample - loss: 0.6931 - accuracy: 0.5292 - val_loss: 0.6931 - val_accuracy: 0.5296\n",
      "Epoch 8/10\n",
      "8800000/8800000 [==============================] - 255s 29us/sample - loss: 0.6931 - accuracy: 0.5292 - val_loss: 0.6931 - val_accuracy: 0.5296\n",
      "Epoch 9/10\n",
      "8800000/8800000 [==============================] - 255s 29us/sample - loss: 0.6931 - accuracy: 0.5292 - val_loss: 0.6931 - val_accuracy: 0.5296\n",
      "Epoch 10/10\n",
      "8800000/8800000 [==============================] - 254s 29us/sample - loss: 0.6931 - accuracy: 0.5292 - val_loss: 0.6931 - val_accuracy: 0.5296\n"
     ]
    },
    {
     "data": {
      "text/plain": [
       "<tensorflow.python.keras.callbacks.History at 0x24dc6c2ca20>"
      ]
     },
     "execution_count": 284,
     "metadata": {},
     "output_type": "execute_result"
    }
   ],
   "source": [
    "model_higgs.fit(x_train.values, y_train, validation_data=(x_test.values, y_test), epochs=10, batch_size=100, callbacks=[tb_higgs])"
   ]
  },
  {
   "cell_type": "code",
   "execution_count": 285,
   "metadata": {},
   "outputs": [],
   "source": [
    "predictions = model_higgs.predict(x_test.values)"
   ]
  },
  {
   "cell_type": "code",
   "execution_count": 286,
   "metadata": {},
   "outputs": [
    {
     "name": "stdout",
     "output_type": "stream",
     "text": [
      "Prediction: [1 1 1 ... 1 1 1]\n",
      "   Actuals: [1. 1. 1. ... 1. 0. 1.]\n"
     ]
    }
   ],
   "source": [
    "print(\"Prediction: {}\".format(tf.argmax(predictions, axis=1)))\n",
    "print(\"   Actuals: {}\".format(y_test))\n"
   ]
  },
  {
   "cell_type": "code",
   "execution_count": 287,
   "metadata": {},
   "outputs": [],
   "source": [
    "test_accuracy = tf.keras.metrics.Accuracy()"
   ]
  },
  {
   "cell_type": "code",
   "execution_count": 288,
   "metadata": {},
   "outputs": [
    {
     "name": "stdout",
     "output_type": "stream",
     "text": [
      "Test set accuracy: 52.963%\n"
     ]
    }
   ],
   "source": [
    "test_accuracy(tf.argmax(predictions, axis=1), y_test)\n",
    "print(\"Test set accuracy: {:.3%}\".format(test_accuracy.result()))\n"
   ]
  },
  {
   "cell_type": "code",
   "execution_count": null,
   "metadata": {},
   "outputs": [],
   "source": []
  },
  {
   "cell_type": "code",
   "execution_count": null,
   "metadata": {},
   "outputs": [],
   "source": []
  }
 ],
 "metadata": {
  "kernelspec": {
   "display_name": "Python 3",
   "language": "python",
   "name": "python3"
  },
  "language_info": {
   "codemirror_mode": {
    "name": "ipython",
    "version": 3
   },
   "file_extension": ".py",
   "mimetype": "text/x-python",
   "name": "python",
   "nbconvert_exporter": "python",
   "pygments_lexer": "ipython3",
   "version": "3.6.9"
  }
 },
 "nbformat": 4,
 "nbformat_minor": 2
}
